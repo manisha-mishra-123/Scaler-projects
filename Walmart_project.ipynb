{
  "nbformat": 4,
  "nbformat_minor": 0,
  "metadata": {
    "colab": {
      "provenance": [],
      "authorship_tag": "ABX9TyM9+jVK2AiK8CalrDA0srQp",
      "include_colab_link": true
    },
    "kernelspec": {
      "name": "python3",
      "display_name": "Python 3"
    },
    "language_info": {
      "name": "python"
    }
  },
  "cells": [
    {
      "cell_type": "markdown",
      "metadata": {
        "id": "view-in-github",
        "colab_type": "text"
      },
      "source": [
        "<a href=\"https://colab.research.google.com/github/manisha-mishra-123/Scaler-projects/blob/main/Walmart_project.ipynb\" target=\"_parent\"><img src=\"https://colab.research.google.com/assets/colab-badge.svg\" alt=\"Open In Colab\"/></a>"
      ]
    },
    {
      "cell_type": "code",
      "execution_count": 3,
      "metadata": {
        "colab": {
          "base_uri": "https://localhost:8080/"
        },
        "id": "EpSmMLKUJz9G",
        "outputId": "f7cb0748-625a-4246-d4a2-4fa7af663af9"
      },
      "outputs": [
        {
          "output_type": "stream",
          "name": "stdout",
          "text": [
            "Downloading...\n",
            "From: https://drive.google.com/uc?id=1Wbm2pJBAdcIHksyWkv2ZDndU3-ZOxtIw\n",
            "To: /content/Walmart_data.csv\n",
            "100% 23.0M/23.0M [00:00<00:00, 77.6MB/s]\n"
          ]
        }
      ],
      "source": [
        "import pandas as pd\n",
        "import numpy as np\n",
        "import seaborn as sns\n",
        "\n",
        "!gdown 1Wbm2pJBAdcIHksyWkv2ZDndU3-ZOxtIw"
      ]
    },
    {
      "cell_type": "code",
      "source": [
        "df=pd.read_csv('Walmart_data.csv')\n",
        "df.head()"
      ],
      "metadata": {
        "colab": {
          "base_uri": "https://localhost:8080/",
          "height": 295
        },
        "id": "pEHuQvaJMTyC",
        "outputId": "8de31645-39d2-4a26-867a-169e9ded63d9"
      },
      "execution_count": 4,
      "outputs": [
        {
          "output_type": "execute_result",
          "data": {
            "text/plain": [
              "   User_ID Product_ID Gender   Age  Occupation City_Category  \\\n",
              "0  1000001  P00069042      F  0-17          10             A   \n",
              "1  1000001  P00248942      F  0-17          10             A   \n",
              "2  1000001  P00087842      F  0-17          10             A   \n",
              "3  1000001  P00085442      F  0-17          10             A   \n",
              "4  1000002  P00285442      M   55+          16             C   \n",
              "\n",
              "  Stay_In_Current_City_Years  Marital_Status  Product_Category  Purchase  \n",
              "0                          2               0                 3      8370  \n",
              "1                          2               0                 1     15200  \n",
              "2                          2               0                12      1422  \n",
              "3                          2               0                12      1057  \n",
              "4                         4+               0                 8      7969  "
            ],
            "text/html": [
              "\n",
              "  <div id=\"df-93abd5fc-fe9d-44ff-9d1e-b5352d8d4310\" class=\"colab-df-container\">\n",
              "    <div>\n",
              "<style scoped>\n",
              "    .dataframe tbody tr th:only-of-type {\n",
              "        vertical-align: middle;\n",
              "    }\n",
              "\n",
              "    .dataframe tbody tr th {\n",
              "        vertical-align: top;\n",
              "    }\n",
              "\n",
              "    .dataframe thead th {\n",
              "        text-align: right;\n",
              "    }\n",
              "</style>\n",
              "<table border=\"1\" class=\"dataframe\">\n",
              "  <thead>\n",
              "    <tr style=\"text-align: right;\">\n",
              "      <th></th>\n",
              "      <th>User_ID</th>\n",
              "      <th>Product_ID</th>\n",
              "      <th>Gender</th>\n",
              "      <th>Age</th>\n",
              "      <th>Occupation</th>\n",
              "      <th>City_Category</th>\n",
              "      <th>Stay_In_Current_City_Years</th>\n",
              "      <th>Marital_Status</th>\n",
              "      <th>Product_Category</th>\n",
              "      <th>Purchase</th>\n",
              "    </tr>\n",
              "  </thead>\n",
              "  <tbody>\n",
              "    <tr>\n",
              "      <th>0</th>\n",
              "      <td>1000001</td>\n",
              "      <td>P00069042</td>\n",
              "      <td>F</td>\n",
              "      <td>0-17</td>\n",
              "      <td>10</td>\n",
              "      <td>A</td>\n",
              "      <td>2</td>\n",
              "      <td>0</td>\n",
              "      <td>3</td>\n",
              "      <td>8370</td>\n",
              "    </tr>\n",
              "    <tr>\n",
              "      <th>1</th>\n",
              "      <td>1000001</td>\n",
              "      <td>P00248942</td>\n",
              "      <td>F</td>\n",
              "      <td>0-17</td>\n",
              "      <td>10</td>\n",
              "      <td>A</td>\n",
              "      <td>2</td>\n",
              "      <td>0</td>\n",
              "      <td>1</td>\n",
              "      <td>15200</td>\n",
              "    </tr>\n",
              "    <tr>\n",
              "      <th>2</th>\n",
              "      <td>1000001</td>\n",
              "      <td>P00087842</td>\n",
              "      <td>F</td>\n",
              "      <td>0-17</td>\n",
              "      <td>10</td>\n",
              "      <td>A</td>\n",
              "      <td>2</td>\n",
              "      <td>0</td>\n",
              "      <td>12</td>\n",
              "      <td>1422</td>\n",
              "    </tr>\n",
              "    <tr>\n",
              "      <th>3</th>\n",
              "      <td>1000001</td>\n",
              "      <td>P00085442</td>\n",
              "      <td>F</td>\n",
              "      <td>0-17</td>\n",
              "      <td>10</td>\n",
              "      <td>A</td>\n",
              "      <td>2</td>\n",
              "      <td>0</td>\n",
              "      <td>12</td>\n",
              "      <td>1057</td>\n",
              "    </tr>\n",
              "    <tr>\n",
              "      <th>4</th>\n",
              "      <td>1000002</td>\n",
              "      <td>P00285442</td>\n",
              "      <td>M</td>\n",
              "      <td>55+</td>\n",
              "      <td>16</td>\n",
              "      <td>C</td>\n",
              "      <td>4+</td>\n",
              "      <td>0</td>\n",
              "      <td>8</td>\n",
              "      <td>7969</td>\n",
              "    </tr>\n",
              "  </tbody>\n",
              "</table>\n",
              "</div>\n",
              "    <div class=\"colab-df-buttons\">\n",
              "\n",
              "  <div class=\"colab-df-container\">\n",
              "    <button class=\"colab-df-convert\" onclick=\"convertToInteractive('df-93abd5fc-fe9d-44ff-9d1e-b5352d8d4310')\"\n",
              "            title=\"Convert this dataframe to an interactive table.\"\n",
              "            style=\"display:none;\">\n",
              "\n",
              "  <svg xmlns=\"http://www.w3.org/2000/svg\" height=\"24px\" viewBox=\"0 -960 960 960\">\n",
              "    <path d=\"M120-120v-720h720v720H120Zm60-500h600v-160H180v160Zm220 220h160v-160H400v160Zm0 220h160v-160H400v160ZM180-400h160v-160H180v160Zm440 0h160v-160H620v160ZM180-180h160v-160H180v160Zm440 0h160v-160H620v160Z\"/>\n",
              "  </svg>\n",
              "    </button>\n",
              "\n",
              "  <style>\n",
              "    .colab-df-container {\n",
              "      display:flex;\n",
              "      gap: 12px;\n",
              "    }\n",
              "\n",
              "    .colab-df-convert {\n",
              "      background-color: #E8F0FE;\n",
              "      border: none;\n",
              "      border-radius: 50%;\n",
              "      cursor: pointer;\n",
              "      display: none;\n",
              "      fill: #1967D2;\n",
              "      height: 32px;\n",
              "      padding: 0 0 0 0;\n",
              "      width: 32px;\n",
              "    }\n",
              "\n",
              "    .colab-df-convert:hover {\n",
              "      background-color: #E2EBFA;\n",
              "      box-shadow: 0px 1px 2px rgba(60, 64, 67, 0.3), 0px 1px 3px 1px rgba(60, 64, 67, 0.15);\n",
              "      fill: #174EA6;\n",
              "    }\n",
              "\n",
              "    .colab-df-buttons div {\n",
              "      margin-bottom: 4px;\n",
              "    }\n",
              "\n",
              "    [theme=dark] .colab-df-convert {\n",
              "      background-color: #3B4455;\n",
              "      fill: #D2E3FC;\n",
              "    }\n",
              "\n",
              "    [theme=dark] .colab-df-convert:hover {\n",
              "      background-color: #434B5C;\n",
              "      box-shadow: 0px 1px 3px 1px rgba(0, 0, 0, 0.15);\n",
              "      filter: drop-shadow(0px 1px 2px rgba(0, 0, 0, 0.3));\n",
              "      fill: #FFFFFF;\n",
              "    }\n",
              "  </style>\n",
              "\n",
              "    <script>\n",
              "      const buttonEl =\n",
              "        document.querySelector('#df-93abd5fc-fe9d-44ff-9d1e-b5352d8d4310 button.colab-df-convert');\n",
              "      buttonEl.style.display =\n",
              "        google.colab.kernel.accessAllowed ? 'block' : 'none';\n",
              "\n",
              "      async function convertToInteractive(key) {\n",
              "        const element = document.querySelector('#df-93abd5fc-fe9d-44ff-9d1e-b5352d8d4310');\n",
              "        const dataTable =\n",
              "          await google.colab.kernel.invokeFunction('convertToInteractive',\n",
              "                                                    [key], {});\n",
              "        if (!dataTable) return;\n",
              "\n",
              "        const docLinkHtml = 'Like what you see? Visit the ' +\n",
              "          '<a target=\"_blank\" href=https://colab.research.google.com/notebooks/data_table.ipynb>data table notebook</a>'\n",
              "          + ' to learn more about interactive tables.';\n",
              "        element.innerHTML = '';\n",
              "        dataTable['output_type'] = 'display_data';\n",
              "        await google.colab.output.renderOutput(dataTable, element);\n",
              "        const docLink = document.createElement('div');\n",
              "        docLink.innerHTML = docLinkHtml;\n",
              "        element.appendChild(docLink);\n",
              "      }\n",
              "    </script>\n",
              "  </div>\n",
              "\n",
              "\n",
              "<div id=\"df-ecc1cbf9-ba00-4f34-a5c5-71945c70d2b2\">\n",
              "  <button class=\"colab-df-quickchart\" onclick=\"quickchart('df-ecc1cbf9-ba00-4f34-a5c5-71945c70d2b2')\"\n",
              "            title=\"Suggest charts\"\n",
              "            style=\"display:none;\">\n",
              "\n",
              "<svg xmlns=\"http://www.w3.org/2000/svg\" height=\"24px\"viewBox=\"0 0 24 24\"\n",
              "     width=\"24px\">\n",
              "    <g>\n",
              "        <path d=\"M19 3H5c-1.1 0-2 .9-2 2v14c0 1.1.9 2 2 2h14c1.1 0 2-.9 2-2V5c0-1.1-.9-2-2-2zM9 17H7v-7h2v7zm4 0h-2V7h2v10zm4 0h-2v-4h2v4z\"/>\n",
              "    </g>\n",
              "</svg>\n",
              "  </button>\n",
              "\n",
              "<style>\n",
              "  .colab-df-quickchart {\n",
              "      --bg-color: #E8F0FE;\n",
              "      --fill-color: #1967D2;\n",
              "      --hover-bg-color: #E2EBFA;\n",
              "      --hover-fill-color: #174EA6;\n",
              "      --disabled-fill-color: #AAA;\n",
              "      --disabled-bg-color: #DDD;\n",
              "  }\n",
              "\n",
              "  [theme=dark] .colab-df-quickchart {\n",
              "      --bg-color: #3B4455;\n",
              "      --fill-color: #D2E3FC;\n",
              "      --hover-bg-color: #434B5C;\n",
              "      --hover-fill-color: #FFFFFF;\n",
              "      --disabled-bg-color: #3B4455;\n",
              "      --disabled-fill-color: #666;\n",
              "  }\n",
              "\n",
              "  .colab-df-quickchart {\n",
              "    background-color: var(--bg-color);\n",
              "    border: none;\n",
              "    border-radius: 50%;\n",
              "    cursor: pointer;\n",
              "    display: none;\n",
              "    fill: var(--fill-color);\n",
              "    height: 32px;\n",
              "    padding: 0;\n",
              "    width: 32px;\n",
              "  }\n",
              "\n",
              "  .colab-df-quickchart:hover {\n",
              "    background-color: var(--hover-bg-color);\n",
              "    box-shadow: 0 1px 2px rgba(60, 64, 67, 0.3), 0 1px 3px 1px rgba(60, 64, 67, 0.15);\n",
              "    fill: var(--button-hover-fill-color);\n",
              "  }\n",
              "\n",
              "  .colab-df-quickchart-complete:disabled,\n",
              "  .colab-df-quickchart-complete:disabled:hover {\n",
              "    background-color: var(--disabled-bg-color);\n",
              "    fill: var(--disabled-fill-color);\n",
              "    box-shadow: none;\n",
              "  }\n",
              "\n",
              "  .colab-df-spinner {\n",
              "    border: 2px solid var(--fill-color);\n",
              "    border-color: transparent;\n",
              "    border-bottom-color: var(--fill-color);\n",
              "    animation:\n",
              "      spin 1s steps(1) infinite;\n",
              "  }\n",
              "\n",
              "  @keyframes spin {\n",
              "    0% {\n",
              "      border-color: transparent;\n",
              "      border-bottom-color: var(--fill-color);\n",
              "      border-left-color: var(--fill-color);\n",
              "    }\n",
              "    20% {\n",
              "      border-color: transparent;\n",
              "      border-left-color: var(--fill-color);\n",
              "      border-top-color: var(--fill-color);\n",
              "    }\n",
              "    30% {\n",
              "      border-color: transparent;\n",
              "      border-left-color: var(--fill-color);\n",
              "      border-top-color: var(--fill-color);\n",
              "      border-right-color: var(--fill-color);\n",
              "    }\n",
              "    40% {\n",
              "      border-color: transparent;\n",
              "      border-right-color: var(--fill-color);\n",
              "      border-top-color: var(--fill-color);\n",
              "    }\n",
              "    60% {\n",
              "      border-color: transparent;\n",
              "      border-right-color: var(--fill-color);\n",
              "    }\n",
              "    80% {\n",
              "      border-color: transparent;\n",
              "      border-right-color: var(--fill-color);\n",
              "      border-bottom-color: var(--fill-color);\n",
              "    }\n",
              "    90% {\n",
              "      border-color: transparent;\n",
              "      border-bottom-color: var(--fill-color);\n",
              "    }\n",
              "  }\n",
              "</style>\n",
              "\n",
              "  <script>\n",
              "    async function quickchart(key) {\n",
              "      const quickchartButtonEl =\n",
              "        document.querySelector('#' + key + ' button');\n",
              "      quickchartButtonEl.disabled = true;  // To prevent multiple clicks.\n",
              "      quickchartButtonEl.classList.add('colab-df-spinner');\n",
              "      try {\n",
              "        const charts = await google.colab.kernel.invokeFunction(\n",
              "            'suggestCharts', [key], {});\n",
              "      } catch (error) {\n",
              "        console.error('Error during call to suggestCharts:', error);\n",
              "      }\n",
              "      quickchartButtonEl.classList.remove('colab-df-spinner');\n",
              "      quickchartButtonEl.classList.add('colab-df-quickchart-complete');\n",
              "    }\n",
              "    (() => {\n",
              "      let quickchartButtonEl =\n",
              "        document.querySelector('#df-ecc1cbf9-ba00-4f34-a5c5-71945c70d2b2 button');\n",
              "      quickchartButtonEl.style.display =\n",
              "        google.colab.kernel.accessAllowed ? 'block' : 'none';\n",
              "    })();\n",
              "  </script>\n",
              "</div>\n",
              "\n",
              "    </div>\n",
              "  </div>\n"
            ]
          },
          "metadata": {},
          "execution_count": 4
        }
      ]
    },
    {
      "cell_type": "markdown",
      "source": [
        "Characteristics of the Dataset"
      ],
      "metadata": {
        "id": "ejCGIKzDNGEN"
      }
    },
    {
      "cell_type": "code",
      "source": [
        "print('Shape of the dataset:', df.shape)\n",
        "print('Size of the dataset:',df.size)\n",
        "print('Information of the columns of the dataset:\\n',df.info())\n",
        "print('Description of the columns of the dataset:\\n',df.describe())"
      ],
      "metadata": {
        "colab": {
          "base_uri": "https://localhost:8080/"
        },
        "id": "jFdQUt88MxlM",
        "outputId": "a47e9ffc-3e0d-4bdd-c782-b29d8508e694"
      },
      "execution_count": 5,
      "outputs": [
        {
          "output_type": "stream",
          "name": "stdout",
          "text": [
            "Shape of the dataset: (550068, 10)\n",
            "Size of the dataset: 5500680\n",
            "<class 'pandas.core.frame.DataFrame'>\n",
            "RangeIndex: 550068 entries, 0 to 550067\n",
            "Data columns (total 10 columns):\n",
            " #   Column                      Non-Null Count   Dtype \n",
            "---  ------                      --------------   ----- \n",
            " 0   User_ID                     550068 non-null  int64 \n",
            " 1   Product_ID                  550068 non-null  object\n",
            " 2   Gender                      550068 non-null  object\n",
            " 3   Age                         550068 non-null  object\n",
            " 4   Occupation                  550068 non-null  int64 \n",
            " 5   City_Category               550068 non-null  object\n",
            " 6   Stay_In_Current_City_Years  550068 non-null  object\n",
            " 7   Marital_Status              550068 non-null  int64 \n",
            " 8   Product_Category            550068 non-null  int64 \n",
            " 9   Purchase                    550068 non-null  int64 \n",
            "dtypes: int64(5), object(5)\n",
            "memory usage: 42.0+ MB\n",
            "Information of the columns of the dataset:\n",
            " None\n",
            "Description of the columns of the dataset:\n",
            "             User_ID     Occupation  Marital_Status  Product_Category  \\\n",
            "count  5.500680e+05  550068.000000   550068.000000     550068.000000   \n",
            "mean   1.003029e+06       8.076707        0.409653          5.404270   \n",
            "std    1.727592e+03       6.522660        0.491770          3.936211   \n",
            "min    1.000001e+06       0.000000        0.000000          1.000000   \n",
            "25%    1.001516e+06       2.000000        0.000000          1.000000   \n",
            "50%    1.003077e+06       7.000000        0.000000          5.000000   \n",
            "75%    1.004478e+06      14.000000        1.000000          8.000000   \n",
            "max    1.006040e+06      20.000000        1.000000         20.000000   \n",
            "\n",
            "            Purchase  \n",
            "count  550068.000000  \n",
            "mean     9263.968713  \n",
            "std      5023.065394  \n",
            "min        12.000000  \n",
            "25%      5823.000000  \n",
            "50%      8047.000000  \n",
            "75%     12054.000000  \n",
            "max     23961.000000  \n"
          ]
        }
      ]
    },
    {
      "cell_type": "markdown",
      "source": [
        "Detecting Null values and outliers"
      ],
      "metadata": {
        "id": "kefDaYeINl1_"
      }
    },
    {
      "cell_type": "code",
      "source": [
        "print('Null values:\\n', df.isnull())\n",
        "df.isnull().sum()"
      ],
      "metadata": {
        "colab": {
          "base_uri": "https://localhost:8080/"
        },
        "id": "vkNN0IXaNpES",
        "outputId": "2676b4ee-ecac-424b-aa76-a2bd9df86907"
      },
      "execution_count": 6,
      "outputs": [
        {
          "output_type": "stream",
          "name": "stdout",
          "text": [
            "Null values:\n",
            "         User_ID  Product_ID  Gender    Age  Occupation  City_Category  \\\n",
            "0         False       False   False  False       False          False   \n",
            "1         False       False   False  False       False          False   \n",
            "2         False       False   False  False       False          False   \n",
            "3         False       False   False  False       False          False   \n",
            "4         False       False   False  False       False          False   \n",
            "...         ...         ...     ...    ...         ...            ...   \n",
            "550063    False       False   False  False       False          False   \n",
            "550064    False       False   False  False       False          False   \n",
            "550065    False       False   False  False       False          False   \n",
            "550066    False       False   False  False       False          False   \n",
            "550067    False       False   False  False       False          False   \n",
            "\n",
            "        Stay_In_Current_City_Years  Marital_Status  Product_Category  Purchase  \n",
            "0                            False           False             False     False  \n",
            "1                            False           False             False     False  \n",
            "2                            False           False             False     False  \n",
            "3                            False           False             False     False  \n",
            "4                            False           False             False     False  \n",
            "...                            ...             ...               ...       ...  \n",
            "550063                       False           False             False     False  \n",
            "550064                       False           False             False     False  \n",
            "550065                       False           False             False     False  \n",
            "550066                       False           False             False     False  \n",
            "550067                       False           False             False     False  \n",
            "\n",
            "[550068 rows x 10 columns]\n"
          ]
        },
        {
          "output_type": "execute_result",
          "data": {
            "text/plain": [
              "User_ID                       0\n",
              "Product_ID                    0\n",
              "Gender                        0\n",
              "Age                           0\n",
              "Occupation                    0\n",
              "City_Category                 0\n",
              "Stay_In_Current_City_Years    0\n",
              "Marital_Status                0\n",
              "Product_Category              0\n",
              "Purchase                      0\n",
              "dtype: int64"
            ]
          },
          "metadata": {},
          "execution_count": 6
        }
      ]
    },
    {
      "cell_type": "markdown",
      "source": [
        "Male vs Female\n",
        "Tracking the amount spent per transaction of all the 50 million female customers, and all the 50 million male customers, calculate the average, and conclude the results."
      ],
      "metadata": {
        "id": "Lw1iV4QlQuBr"
      }
    },
    {
      "cell_type": "code",
      "source": [
        "print('Amount spent by females:')\n",
        "female_data=df[df['Gender']=='F']['Purchase'].describe()\n",
        "print(female_data)\n",
        "\n",
        "print('Amount spent by males:\\n')\n",
        "male_data=df[df['Gender']=='M']['Purchase'].describe()\n",
        "print(male_data)"
      ],
      "metadata": {
        "colab": {
          "base_uri": "https://localhost:8080/"
        },
        "id": "YYwVTh76QtJ3",
        "outputId": "2f07f409-7164-4ef4-d847-e5538083707c"
      },
      "execution_count": 7,
      "outputs": [
        {
          "output_type": "stream",
          "name": "stdout",
          "text": [
            "Amount spent by females:\n",
            "count    135809.000000\n",
            "mean       8734.565765\n",
            "std        4767.233289\n",
            "min          12.000000\n",
            "25%        5433.000000\n",
            "50%        7914.000000\n",
            "75%       11400.000000\n",
            "max       23959.000000\n",
            "Name: Purchase, dtype: float64\n",
            "Amount spent by males:\n",
            "\n",
            "count    414259.00000\n",
            "mean       9437.52604\n",
            "std        5092.18621\n",
            "min          12.00000\n",
            "25%        5863.00000\n",
            "50%        8098.00000\n",
            "75%       12454.00000\n",
            "max       23961.00000\n",
            "Name: Purchase, dtype: float64\n"
          ]
        }
      ]
    },
    {
      "cell_type": "markdown",
      "source": [
        "Use the sample average to find out an interval within which the population average will lie. Using the sample of female customers you will calculate the interval within which the average spending of 50 million male and female customers may lie."
      ],
      "metadata": {
        "id": "EJmgyZXjQvyc"
      }
    },
    {
      "cell_type": "code",
      "source": [
        "sample_df=df.sample(300)\n",
        "print(df.groupby('Gender')['Purchase'].describe())\n",
        "print(sample_df.groupby('Gender')['Purchase'].describe())"
      ],
      "metadata": {
        "colab": {
          "base_uri": "https://localhost:8080/"
        },
        "id": "WyczcYQ2QurW",
        "outputId": "aab73467-f8a3-469d-f225-0483cb44cf09"
      },
      "execution_count": 8,
      "outputs": [
        {
          "output_type": "stream",
          "name": "stdout",
          "text": [
            "           count         mean          std   min     25%     50%      75%  \\\n",
            "Gender                                                                      \n",
            "F       135809.0  8734.565765  4767.233289  12.0  5433.0  7914.0  11400.0   \n",
            "M       414259.0  9437.526040  5092.186210  12.0  5863.0  8098.0  12454.0   \n",
            "\n",
            "            max  \n",
            "Gender           \n",
            "F       23959.0  \n",
            "M       23961.0  \n",
            "        count         mean          std    min     25%     50%      75%  \\\n",
            "Gender                                                                    \n",
            "F        65.0  8446.876923  4601.640372  130.0  5905.0  7748.0   9929.0   \n",
            "M       235.0  9187.034043  5114.505438  401.0  5291.0  8010.0  12166.0   \n",
            "\n",
            "            max  \n",
            "Gender           \n",
            "F       20555.0  \n",
            "M       21393.0  \n"
          ]
        }
      ]
    },
    {
      "cell_type": "markdown",
      "source": [],
      "metadata": {
        "id": "o_afFo3sQxVX"
      }
    },
    {
      "cell_type": "code",
      "source": [
        "sample_size=300\n",
        "female_sample_data=[df[df['Gender']=='F'].sample(sample_size, replace=True)['Purchase'].mean() for i in range(1000)]\n",
        "male_sample_data=[df[df['Gender']=='M'].sample(sample_size,replace=True)['Purchase'].mean() for i in range(1000)]"
      ],
      "metadata": {
        "id": "_ZQe9GIdQwp5"
      },
      "execution_count": 9,
      "outputs": []
    },
    {
      "cell_type": "code",
      "source": [
        "print(female_sample_data)"
      ],
      "metadata": {
        "colab": {
          "base_uri": "https://localhost:8080/"
        },
        "id": "Banuxt0Y0kjP",
        "outputId": "34fd1639-e66b-40f7-c243-77df24f47c37"
      },
      "execution_count": 10,
      "outputs": [
        {
          "output_type": "stream",
          "name": "stdout",
          "text": [
            "[8940.123333333333, 8608.206666666667, 8751.996666666666, 9040.466666666667, 8388.776666666667, 9239.303333333333, 8824.69, 8765.396666666667, 8381.443333333333, 8540.476666666667, 8861.17, 8425.273333333333, 8810.11, 9013.696666666667, 8371.54, 9060.403333333334, 8587.46, 8804.696666666667, 8615.56, 8754.026666666667, 8993.97, 8316.116666666667, 8608.263333333334, 8707.303333333333, 8663.41, 8697.333333333334, 9071.18, 8712.243333333334, 8659.993333333334, 8496.786666666667, 8729.5, 8617.276666666667, 8548.34, 8771.346666666666, 8095.79, 8712.69, 8841.173333333334, 8920.933333333332, 8500.05, 9250.193333333333, 8697.386666666667, 8918.81, 8632.77, 8541.02, 8945.07, 9080.253333333334, 8522.27, 8721.803333333333, 8711.293333333333, 8980.706666666667, 9101.063333333334, 9005.623333333333, 9234.046666666667, 8810.296666666667, 8615.286666666667, 9115.703333333333, 9027.163333333334, 8971.38, 8617.53, 8750.576666666666, 8484.083333333334, 9013.95, 8454.306666666667, 8413.246666666666, 8900.503333333334, 8479.616666666667, 8623.086666666666, 8786.71, 9235.226666666667, 8642.53, 8617.693333333333, 8813.82, 8538.75, 8501.466666666667, 8712.476666666667, 8614.773333333333, 8803.843333333334, 8620.443333333333, 9098.433333333332, 8409.73, 8869.243333333334, 8595.803333333333, 8603.143333333333, 8847.606666666667, 8617.543333333333, 8336.6, 8437.853333333333, 9020.856666666667, 8535.436666666666, 8504.036666666667, 8895.766666666666, 8840.006666666666, 8526.093333333334, 8839.353333333333, 8423.253333333334, 9219.063333333334, 9271.573333333334, 8442.49, 8772.543333333333, 8336.02, 8435.306666666667, 8148.623333333333, 8747.606666666667, 9039.386666666667, 8892.67, 8822.126666666667, 9005.05, 8561.073333333334, 9029.4, 8871.43, 9338.39, 8996.85, 9156.0, 9181.403333333334, 9105.193333333333, 9255.243333333334, 8763.893333333333, 8573.893333333333, 8772.28, 8885.21, 9516.8, 8664.686666666666, 8657.966666666667, 8392.8, 8675.33, 8461.336666666666, 8614.286666666667, 8886.343333333334, 8676.043333333333, 8117.826666666667, 8758.466666666667, 8386.356666666667, 8801.886666666667, 8361.876666666667, 8566.823333333334, 8779.1, 8368.403333333334, 8651.41, 9526.626666666667, 9080.473333333333, 8315.9, 8912.913333333334, 8909.953333333333, 8617.563333333334, 8834.726666666667, 8324.246666666666, 8176.37, 8844.37, 8424.14, 8778.703333333333, 8967.873333333333, 8654.596666666666, 8819.02, 9117.206666666667, 8623.953333333333, 8586.41, 8679.826666666666, 8860.683333333332, 8791.956666666667, 9487.036666666667, 8358.99, 8434.72, 8726.78, 8525.97, 8677.553333333333, 8777.34, 8462.74, 8780.05, 8788.92, 8468.91, 8634.326666666666, 9049.916666666666, 8797.69, 8741.18, 8857.126666666667, 8577.386666666667, 8905.726666666667, 8629.796666666667, 8689.39, 8652.72, 8600.756666666666, 9114.026666666667, 8570.103333333333, 9151.31, 8236.556666666667, 8265.423333333334, 8471.926666666666, 8564.313333333334, 8937.916666666666, 8932.57, 8364.48, 9125.573333333334, 8656.496666666666, 8773.523333333333, 8481.566666666668, 9204.523333333333, 8636.753333333334, 8374.656666666666, 9474.7, 8810.723333333333, 8513.783333333333, 8658.003333333334, 8248.756666666666, 8871.353333333333, 8694.456666666667, 8899.406666666666, 8645.49, 8636.023333333333, 8380.936666666666, 8877.523333333333, 8894.44, 8183.643333333333, 8570.37, 8300.566666666668, 8780.976666666667, 8522.14, 9015.406666666666, 8716.05, 8441.633333333333, 8929.093333333334, 9152.053333333333, 9187.58, 8584.306666666667, 8216.716666666667, 8523.813333333334, 8432.936666666666, 8837.936666666666, 8688.096666666666, 8250.85, 8587.793333333333, 8320.403333333334, 9176.866666666667, 8530.503333333334, 9259.426666666666, 9134.353333333333, 8552.853333333333, 8277.2, 8753.82, 8522.383333333333, 8979.933333333332, 8383.446666666667, 8417.173333333334, 8746.32, 7955.483333333334, 8708.803333333333, 9356.07, 8572.2, 8516.4, 8254.476666666667, 8359.24, 9064.46, 8131.3133333333335, 8818.33, 8334.276666666667, 8964.766666666666, 8153.26, 8457.01, 8867.996666666666, 8415.376666666667, 9315.876666666667, 8734.39, 8715.63, 8842.72, 8852.086666666666, 9103.79, 8955.153333333334, 8989.703333333333, 8863.756666666666, 8505.966666666667, 8713.82, 8850.27, 8675.313333333334, 8880.87, 8772.836666666666, 9024.693333333333, 8923.276666666667, 9336.01, 8491.543333333333, 8800.93, 8959.163333333334, 8910.363333333333, 8426.97, 8951.333333333334, 8900.586666666666, 8624.393333333333, 8382.683333333332, 8451.033333333333, 8684.153333333334, 8857.183333333332, 8424.35, 8596.923333333334, 8627.246666666666, 9111.506666666666, 8579.023333333333, 8844.69, 8923.25, 8742.79, 8624.863333333333, 9088.27, 8566.986666666666, 8606.146666666667, 9274.746666666666, 8743.546666666667, 8477.836666666666, 8626.476666666667, 8829.453333333333, 8442.576666666666, 9206.05, 8671.096666666666, 8917.706666666667, 9358.146666666667, 8999.65, 8839.41, 8314.686666666666, 8966.96, 8510.233333333334, 9003.55, 8884.493333333334, 9022.316666666668, 8785.656666666666, 8912.353333333333, 8988.596666666666, 8782.003333333334, 8811.176666666666, 8863.116666666667, 8718.87, 8371.98, 8465.883333333333, 8430.903333333334, 9120.013333333334, 8587.523333333333, 8425.843333333334, 8830.72, 9043.63, 8968.373333333333, 8966.99, 8722.913333333334, 8738.633333333333, 8750.84, 8683.786666666667, 8795.106666666667, 8870.9, 8457.01, 8769.01, 8777.956666666667, 8671.866666666667, 8693.853333333333, 8455.286666666667, 8555.74, 8658.143333333333, 9006.99, 8372.746666666666, 8596.31, 8415.43, 9101.593333333334, 8858.403333333334, 8600.733333333334, 8654.75, 8746.413333333334, 9480.17, 8183.073333333334, 8344.496666666666, 8748.416666666666, 8546.086666666666, 9003.323333333334, 9005.12, 8316.513333333334, 9002.703333333333, 8548.016666666666, 8699.17, 8860.77, 8899.123333333333, 8842.99, 8771.36, 9148.71, 9065.97, 8888.123333333333, 9140.983333333334, 8913.623333333333, 8731.133333333333, 9020.903333333334, 8352.383333333333, 8659.586666666666, 8999.316666666668, 8358.926666666666, 9355.74, 8586.856666666667, 8897.646666666667, 9135.92, 9247.586666666666, 9004.013333333334, 8693.133333333333, 8866.723333333333, 8873.353333333333, 8981.756666666666, 8541.366666666667, 8358.333333333334, 8824.41, 8728.446666666667, 9107.743333333334, 8778.393333333333, 8695.82, 9401.15, 8718.873333333333, 8866.293333333333, 8528.35, 8868.916666666666, 8937.126666666667, 8788.233333333334, 8486.876666666667, 9150.37, 9124.21, 8644.316666666668, 8995.67, 8974.946666666667, 8346.393333333333, 8827.29, 8162.74, 8747.276666666667, 8513.63, 9220.606666666667, 8477.91, 8551.466666666667, 8744.05, 8726.276666666667, 8786.77, 8110.866666666667, 8674.776666666667, 8780.656666666666, 8836.82, 9276.096666666666, 8995.96, 8445.916666666666, 8508.636666666667, 8744.86, 8525.203333333333, 8228.926666666666, 8518.013333333334, 8744.88, 8664.49, 8374.423333333334, 9479.053333333333, 8433.223333333333, 9023.896666666667, 8888.75, 8802.226666666667, 9467.743333333334, 9389.026666666667, 9182.166666666666, 8636.02, 8620.816666666668, 8649.146666666667, 8644.116666666667, 8710.763333333334, 8754.293333333333, 8267.376666666667, 8431.656666666666, 8602.59, 8553.54, 8463.07, 9121.323333333334, 8494.28, 8755.42, 9233.293333333333, 9129.75, 8709.433333333332, 8150.706666666667, 8918.98, 8240.086666666666, 8936.556666666667, 8317.943333333333, 8472.55, 9362.893333333333, 8878.366666666667, 8828.073333333334, 8796.02, 8556.353333333333, 9051.54, 8948.963333333333, 8996.45, 8930.913333333334, 8516.04, 9231.273333333333, 8898.42, 8976.293333333333, 8627.693333333333, 8896.853333333333, 8648.776666666667, 9219.233333333334, 8618.446666666667, 8487.116666666667, 9065.2, 8785.86, 9217.683333333332, 8560.916666666666, 8509.793333333333, 9194.856666666667, 8066.696666666667, 8951.11, 8979.536666666667, 8999.756666666666, 8998.06, 8959.13, 8629.13, 9062.686666666666, 8617.04, 8797.02, 8388.376666666667, 8371.246666666666, 8776.346666666666, 8735.416666666666, 9131.236666666666, 8792.216666666667, 8606.296666666667, 8721.473333333333, 8587.083333333334, 8685.146666666667, 8848.076666666666, 8629.696666666667, 9325.236666666666, 9271.276666666667, 9111.673333333334, 8494.546666666667, 9242.966666666667, 8414.596666666666, 9117.37, 9031.696666666667, 8763.103333333333, 8883.943333333333, 9419.51, 8892.75, 8364.29, 8476.03, 8509.733333333334, 8596.503333333334, 8998.57, 8710.126666666667, 8665.74, 8803.983333333334, 8566.92, 8423.973333333333, 8269.883333333333, 8873.663333333334, 8488.863333333333, 8658.096666666666, 8639.24, 8351.733333333334, 8868.813333333334, 8556.746666666666, 8648.896666666667, 8483.88, 8776.24, 8708.963333333333, 8669.566666666668, 8679.656666666666, 8521.71, 8139.68, 8882.213333333333, 8562.643333333333, 8715.893333333333, 8450.95, 8641.97, 8642.663333333334, 8369.563333333334, 8507.34, 8411.216666666667, 8975.11, 8734.03, 8685.463333333333, 8876.016666666666, 8555.256666666666, 8803.013333333334, 8324.436666666666, 8588.693333333333, 9304.936666666666, 8748.846666666666, 8679.103333333333, 8923.776666666667, 8961.116666666667, 9194.94, 8894.933333333332, 8780.556666666667, 9286.93, 8372.373333333333, 8618.85, 8577.683333333332, 8406.42, 8277.923333333334, 8387.443333333333, 9028.136666666667, 9017.03, 9092.256666666666, 8889.083333333334, 8367.87, 8762.406666666666, 8643.056666666667, 8408.063333333334, 8718.523333333333, 8767.906666666666, 8159.883333333333, 8413.48, 9043.153333333334, 8502.926666666666, 8808.733333333334, 8671.216666666667, 8750.833333333334, 8362.28, 8879.456666666667, 8829.536666666667, 9019.69, 8818.846666666666, 8758.166666666666, 8589.97, 9030.553333333333, 8292.036666666667, 8760.926666666666, 9040.8, 8303.733333333334, 8700.426666666666, 8986.543333333333, 8261.583333333334, 8587.47, 8081.826666666667, 8611.156666666666, 8485.823333333334, 8536.806666666667, 8712.773333333333, 8438.696666666667, 8726.66, 8560.183333333332, 8346.893333333333, 8931.996666666666, 8570.596666666666, 8531.12, 8626.05, 8840.386666666667, 8543.106666666667, 8886.056666666667, 9096.916666666666, 8749.543333333333, 8894.11, 8625.983333333334, 8788.94, 8970.0, 8646.283333333333, 8543.033333333333, 8699.82, 8350.776666666667, 8663.42, 8724.81, 8512.266666666666, 8677.746666666666, 8714.593333333334, 8838.67, 9055.033333333333, 8639.09, 8715.706666666667, 8785.946666666667, 9256.906666666666, 8520.843333333334, 8480.186666666666, 8972.89, 8735.323333333334, 8523.613333333333, 8556.973333333333, 8798.276666666667, 8892.133333333333, 8314.813333333334, 9125.81, 8435.08, 8968.306666666667, 8518.043333333333, 8340.756666666666, 8762.893333333333, 8641.82, 8235.05, 8483.713333333333, 8701.6, 8587.146666666667, 8801.563333333334, 8402.29, 8812.016666666666, 8585.373333333333, 8958.963333333333, 8781.876666666667, 8548.31, 8778.1, 8516.416666666666, 8775.863333333333, 8652.37, 8864.273333333333, 8930.65, 8565.586666666666, 9130.766666666666, 8828.473333333333, 8853.186666666666, 8807.116666666667, 8684.516666666666, 8863.18, 7886.376666666667, 8745.94, 8945.083333333334, 7985.506666666667, 8879.596666666666, 8306.143333333333, 8719.493333333334, 8791.32, 9373.59, 8442.87, 8521.856666666667, 9053.573333333334, 9312.456666666667, 8818.99, 8891.013333333334, 8598.383333333333, 8792.773333333333, 9037.443333333333, 8900.12, 8838.816666666668, 9030.52, 8963.07, 8377.56, 8518.11, 8525.193333333333, 8842.89, 8856.76, 9170.16, 8510.336666666666, 9060.28, 8858.603333333333, 9049.453333333333, 8459.33, 8460.533333333333, 8708.563333333334, 8865.996666666666, 8968.68, 8940.44, 8520.116666666667, 8997.463333333333, 8333.593333333334, 8472.1, 9089.51, 9036.656666666666, 8080.823333333334, 8974.056666666667, 9426.296666666667, 8421.91, 8381.716666666667, 8519.613333333333, 8887.673333333334, 8368.546666666667, 9034.82, 8884.383333333333, 8430.286666666667, 9254.08, 8846.056666666667, 8709.253333333334, 8788.056666666667, 8785.503333333334, 8966.14, 9451.513333333334, 8909.373333333333, 8332.966666666667, 8855.566666666668, 8871.91, 8162.993333333333, 8533.936666666666, 8990.023333333333, 8615.353333333333, 8575.806666666667, 9072.63, 8332.35, 9107.916666666666, 8416.866666666667, 8804.633333333333, 8919.51, 9271.14, 8148.23, 8368.233333333334, 9005.586666666666, 8467.176666666666, 8669.39, 8403.016666666666, 8386.696666666667, 8272.096666666666, 9116.596666666666, 8828.673333333334, 8941.043333333333, 9380.96, 8893.43, 8499.683333333332, 9083.28, 8785.12, 8865.393333333333, 9012.083333333334, 8449.776666666667, 8943.77, 8429.836666666666, 8079.746666666667, 8646.53, 8598.26, 8381.936666666666, 8890.64, 8323.98, 8770.726666666667, 8497.046666666667, 8805.776666666667, 9190.72, 8604.56, 8853.16, 9018.396666666667, 8355.523333333333, 8723.716666666667, 8969.03, 8927.476666666667, 9009.476666666667, 9192.586666666666, 8934.67, 8649.916666666666, 9144.4, 8817.85, 8723.633333333333, 8918.536666666667, 8630.546666666667, 8393.83, 8379.856666666667, 8621.423333333334, 8800.49, 8985.07, 8608.346666666666, 8287.446666666667, 8741.186666666666, 8705.55, 8882.943333333333, 8844.443333333333, 8745.526666666667, 8244.85, 8470.593333333334, 8751.973333333333, 8998.24, 8799.353333333333, 8157.113333333334, 8816.346666666666, 8924.186666666666, 8800.306666666667, 8976.513333333334, 8271.893333333333, 8603.706666666667, 8737.956666666667, 8475.266666666666, 8908.033333333333, 8540.123333333333, 9391.516666666666, 8470.873333333333, 8953.746666666666, 8468.086666666666, 8260.64, 8680.863333333333, 8181.556666666666, 8586.62, 8560.093333333334, 8565.406666666666, 8387.023333333333, 8604.716666666667, 9168.54, 8690.943333333333, 8334.166666666666, 8141.613333333334, 8946.833333333334, 8670.583333333334, 8195.626666666667, 9188.186666666666, 8609.64, 8878.333333333334, 8797.38, 8789.45, 9218.933333333332, 8480.523333333333, 8858.516666666666, 8693.406666666666, 8394.663333333334, 8757.366666666667, 8600.79, 8691.093333333334, 8921.666666666666, 8688.283333333333, 8601.08, 8421.926666666666, 8781.383333333333, 8647.576666666666, 8832.183333333332, 9003.26, 8729.26, 8778.023333333333, 8518.34, 8489.973333333333, 8426.076666666666, 8453.323333333334, 8723.56, 8930.263333333334, 8676.236666666666, 8787.353333333333, 9177.31, 8759.12, 8673.01, 8566.45, 8295.363333333333, 8685.98, 8620.42, 8821.14, 8718.243333333334, 8753.01, 8878.433333333332, 8393.21, 8983.333333333334, 8854.033333333333, 8406.96, 8508.846666666666, 8546.336666666666, 8272.933333333332, 8390.293333333333, 9133.113333333333, 8660.156666666666, 9046.146666666667, 8963.713333333333, 8720.623333333333, 8813.143333333333, 8803.343333333334, 8825.96, 8634.613333333333, 8834.043333333333, 9172.78, 8704.056666666667, 8670.32, 8387.676666666666, 9242.986666666666, 8916.356666666667, 9044.92, 8796.786666666667, 9243.71, 8796.55, 9167.89, 9226.78, 9037.893333333333, 8686.663333333334, 9028.836666666666, 8153.453333333333, 8641.716666666667, 9089.85, 8915.42, 8925.773333333333, 8719.906666666666, 8678.78, 9053.48, 9075.666666666666, 8611.61, 8636.913333333334, 8528.516666666666, 9453.106666666667, 8590.756666666666, 8542.916666666666, 8586.116666666667, 8804.24, 8801.5, 9184.786666666667, 8800.393333333333, 8749.18, 8729.66, 8495.27, 8906.71, 9118.923333333334, 9143.48, 9080.176666666666, 8683.143333333333, 8842.686666666666, 8867.823333333334, 9046.136666666667, 9300.123333333333, 8717.05, 8825.12, 8142.503333333333, 8392.253333333334, 8464.82, 8648.153333333334, 8723.243333333334, 8887.593333333334, 8807.203333333333, 8802.486666666666, 8910.976666666667, 8759.3, 8718.143333333333, 8896.566666666668, 8568.22, 8654.316666666668, 8840.703333333333, 8736.44, 8473.97, 9182.716666666667, 8876.08, 9038.946666666667]\n"
          ]
        }
      ]
    },
    {
      "cell_type": "code",
      "source": [
        "print(male_sample_data)"
      ],
      "metadata": {
        "colab": {
          "base_uri": "https://localhost:8080/"
        },
        "id": "6oUARueM1MNG",
        "outputId": "13b745ef-d913-497b-b361-c41a7bcf02d7"
      },
      "execution_count": 11,
      "outputs": [
        {
          "output_type": "stream",
          "name": "stdout",
          "text": [
            "[9293.916666666666, 9926.833333333334, 9101.41, 9037.166666666666, 9769.35, 8975.386666666667, 9845.383333333333, 9389.76, 9928.936666666666, 9895.996666666666, 9209.96, 9345.57, 9233.763333333334, 10068.793333333333, 9277.52, 9148.286666666667, 9559.16, 9200.24, 9494.763333333334, 9294.953333333333, 9429.173333333334, 9518.536666666667, 9539.58, 9620.896666666667, 8997.093333333334, 9336.273333333333, 9682.42, 9398.36, 9794.07, 8789.366666666667, 8697.856666666667, 9709.94, 9755.27, 9264.833333333334, 9312.04, 9537.43, 9250.123333333333, 9503.183333333332, 9161.953333333333, 9125.416666666666, 9262.82, 9435.14, 9350.88, 9294.813333333334, 8920.01, 8851.133333333333, 9660.493333333334, 9066.853333333333, 8897.13, 9504.323333333334, 9126.646666666667, 9437.61, 9528.743333333334, 9106.283333333333, 9436.363333333333, 9355.38, 9348.166666666666, 9486.973333333333, 9571.653333333334, 9609.1, 9195.023333333333, 9071.53, 9856.013333333334, 9021.146666666667, 9913.253333333334, 9318.216666666667, 9845.73, 9238.983333333334, 9246.003333333334, 9628.373333333333, 9238.043333333333, 9155.18, 9642.243333333334, 9590.666666666666, 8857.663333333334, 9899.73, 9163.62, 9484.856666666667, 9363.086666666666, 9765.273333333333, 8984.19, 9765.136666666667, 9385.69, 9556.46, 9239.903333333334, 9232.706666666667, 9828.846666666666, 9848.653333333334, 8986.846666666666, 9751.573333333334, 9364.956666666667, 9558.436666666666, 9372.793333333333, 9312.213333333333, 9796.766666666666, 9875.7, 9297.773333333333, 9638.913333333334, 9508.32, 9253.82, 9278.586666666666, 9243.7, 9438.173333333334, 9381.646666666667, 8656.116666666667, 9069.22, 9547.733333333334, 9269.896666666667, 9410.39, 9496.496666666666, 9351.87, 9399.14, 9233.226666666667, 9232.113333333333, 9547.296666666667, 9937.35, 9944.74, 9159.4, 8992.516666666666, 9909.94, 9979.743333333334, 9328.5, 9441.29, 9306.92, 8913.573333333334, 9891.863333333333, 9379.206666666667, 9674.456666666667, 9833.016666666666, 9524.46, 9714.426666666666, 9343.136666666667, 9678.16, 9345.036666666667, 9029.773333333333, 9065.926666666666, 9499.156666666666, 9316.713333333333, 9552.506666666666, 8959.363333333333, 9465.03, 9580.933333333332, 9230.633333333333, 8820.746666666666, 9372.6, 9731.246666666666, 9109.823333333334, 9686.153333333334, 9706.403333333334, 9722.203333333333, 9012.613333333333, 9325.17, 9038.42, 9017.246666666666, 9241.156666666666, 9452.306666666667, 9640.92, 9703.663333333334, 9760.253333333334, 9520.276666666667, 9934.106666666667, 9352.22, 9661.656666666666, 8979.573333333334, 8937.893333333333, 9365.623333333333, 9955.67, 9415.726666666667, 9693.193333333333, 9075.536666666667, 9841.993333333334, 9457.84, 8805.45, 9351.843333333334, 9143.52, 9272.923333333334, 9739.286666666667, 9165.593333333334, 9671.8, 9358.616666666667, 10080.82, 9162.223333333333, 10307.493333333334, 9647.496666666666, 9507.02, 9490.006666666666, 10131.693333333333, 9618.106666666667, 9943.726666666667, 9534.056666666667, 9813.046666666667, 9681.21, 8796.45, 9324.106666666667, 9389.086666666666, 9374.72, 8754.013333333334, 9194.053333333333, 8965.803333333333, 8824.146666666667, 9132.136666666667, 9339.503333333334, 9474.263333333334, 9470.143333333333, 9203.003333333334, 9551.993333333334, 9303.673333333334, 9543.513333333334, 9400.193333333333, 9352.143333333333, 9801.126666666667, 9958.426666666666, 9328.596666666666, 8754.316666666668, 9383.753333333334, 9375.206666666667, 9413.796666666667, 9825.01, 8730.813333333334, 9673.513333333334, 9534.316666666668, 9491.33, 9135.11, 9658.296666666667, 9191.483333333334, 9847.28, 9011.593333333334, 9466.736666666666, 9378.02, 9244.976666666667, 9350.2, 9109.116666666667, 9760.15, 9222.68, 9145.14, 9270.026666666667, 9650.653333333334, 9732.736666666666, 9453.783333333333, 8726.833333333334, 9389.95, 9731.116666666667, 9771.02, 9578.81, 9278.483333333334, 9135.25, 9872.066666666668, 9498.036666666667, 9538.4, 9257.196666666667, 9125.87, 9241.82, 9518.75, 9504.87, 8747.576666666666, 9497.036666666667, 9281.476666666667, 9307.74, 9739.113333333333, 9269.653333333334, 10006.316666666668, 9318.006666666666, 9985.59, 9016.776666666667, 9011.703333333333, 9148.323333333334, 9482.793333333333, 9825.64, 9780.003333333334, 9430.41, 8853.13, 9092.516666666666, 9372.226666666667, 9166.326666666666, 9135.643333333333, 9419.16, 9427.093333333334, 9125.79, 9204.266666666666, 10069.376666666667, 9715.096666666666, 9675.21, 9340.43, 10281.0, 10204.473333333333, 9591.726666666667, 9358.946666666667, 9847.796666666667, 9588.603333333333, 9721.56, 9451.253333333334, 9494.87, 9304.28, 9519.323333333334, 9677.34, 9011.656666666666, 9323.243333333334, 9625.47, 9299.326666666666, 9779.016666666666, 9341.916666666666, 9572.34, 9682.96, 9061.406666666666, 9286.643333333333, 9306.08, 9341.243333333334, 9406.07, 9646.4, 9529.676666666666, 9786.87, 9340.166666666666, 9361.763333333334, 9542.306666666667, 9108.27, 10067.743333333334, 9130.793333333333, 9029.333333333334, 9170.26, 9464.286666666667, 9349.966666666667, 9336.816666666668, 9805.536666666667, 9137.436666666666, 9676.793333333333, 9708.07, 9504.97, 9365.466666666667, 9500.536666666667, 9291.55, 10046.15, 9882.326666666666, 9346.323333333334, 8899.466666666667, 9433.56, 9180.126666666667, 9350.143333333333, 9087.493333333334, 9504.336666666666, 9644.296666666667, 9398.043333333333, 9210.67, 9670.103333333333, 9271.583333333334, 9292.23, 9767.026666666667, 9373.81, 9418.85, 9043.676666666666, 9379.46, 9681.4, 8794.923333333334, 9317.666666666666, 9381.483333333334, 9554.716666666667, 9627.19, 9065.883333333333, 9594.02, 9574.06, 9982.21, 9489.67, 9423.32, 8966.85, 9776.05, 8723.743333333334, 9856.183333333332, 9392.66, 8942.75, 9071.896666666667, 9009.24, 9352.543333333333, 9238.41, 9693.123333333333, 9540.486666666666, 10051.51, 9608.39, 9303.626666666667, 8797.94, 9773.74, 9764.8, 9446.456666666667, 9055.1, 9536.026666666667, 9778.93, 9928.946666666667, 9504.07, 9363.813333333334, 9345.016666666666, 9051.576666666666, 9194.166666666666, 9472.923333333334, 9234.57, 9531.34, 9147.98, 9354.416666666666, 9328.576666666666, 9240.873333333333, 9910.803333333333, 9373.9, 9346.983333333334, 9595.57, 9466.066666666668, 9224.523333333333, 9661.84, 9443.346666666666, 9332.35, 9319.916666666666, 9444.413333333334, 9718.866666666667, 9842.946666666667, 9226.423333333334, 9458.513333333334, 9193.923333333334, 8948.53, 9502.18, 9600.736666666666, 9167.23, 9490.293333333333, 9997.276666666667, 9695.123333333333, 9365.173333333334, 9057.33, 9584.943333333333, 9617.113333333333, 9419.6, 9874.013333333334, 9851.246666666666, 9181.38, 8797.793333333333, 9007.61, 9251.906666666666, 9638.086666666666, 9652.38, 9475.65, 9275.853333333333, 9826.693333333333, 8816.47, 9536.253333333334, 9771.323333333334, 9252.276666666667, 9682.763333333334, 9487.71, 8615.94, 9076.026666666667, 9655.96, 9259.46, 10353.76, 9507.226666666667, 9265.14, 9605.513333333334, 9301.833333333334, 9647.006666666666, 10118.073333333334, 9580.936666666666, 9357.596666666666, 9775.556666666667, 9983.13, 8811.056666666667, 9509.17, 9798.56, 9795.98, 9209.913333333334, 8885.58, 10228.106666666667, 9746.41, 9352.793333333333, 9302.653333333334, 9502.973333333333, 9113.186666666666, 9699.87, 9438.426666666666, 9648.336666666666, 9688.233333333334, 9290.303333333333, 9665.403333333334, 9411.403333333334, 9441.826666666666, 9402.57, 9853.183333333332, 9262.846666666666, 9280.43, 9551.553333333333, 9267.203333333333, 9358.413333333334, 9322.443333333333, 9561.693333333333, 9413.16, 9541.043333333333, 9356.38, 9421.586666666666, 9034.94, 9250.566666666668, 9057.716666666667, 9680.406666666666, 9500.27, 9448.18, 9403.8, 9485.043333333333, 9408.846666666666, 9363.456666666667, 9389.453333333333, 9779.606666666667, 9566.773333333333, 10077.233333333334, 9136.973333333333, 9620.883333333333, 9890.796666666667, 9277.11, 9231.553333333333, 9272.803333333333, 10007.89, 9273.663333333334, 9675.376666666667, 9652.596666666666, 9309.253333333334, 9807.423333333334, 9364.166666666666, 9528.866666666667, 9242.31, 9595.47, 9433.19, 9414.283333333333, 9210.723333333333, 9531.036666666667, 9466.893333333333, 10355.003333333334, 9391.163333333334, 9132.663333333334, 9512.856666666667, 9762.91, 9297.246666666666, 9658.063333333334, 9444.12, 9225.583333333334, 9302.966666666667, 9563.356666666667, 9758.95, 9450.286666666667, 8988.566666666668, 9546.036666666667, 9406.486666666666, 9582.346666666666, 9427.79, 9906.19, 10123.18, 8721.176666666666, 9518.84, 9333.446666666667, 9655.486666666666, 9494.57, 9497.19, 8883.3, 9397.053333333333, 9581.28, 9311.526666666667, 9327.4, 9416.23, 9311.063333333334, 9107.856666666667, 9391.096666666666, 9340.276666666667, 9412.756666666666, 10050.203333333333, 9310.086666666666, 8880.343333333334, 9316.94, 8934.88, 9310.143333333333, 9158.396666666667, 9267.476666666667, 9741.723333333333, 9804.83, 9436.66, 9193.973333333333, 9626.03, 9410.61, 9625.386666666667, 9430.393333333333, 9607.34, 10087.676666666666, 9627.133333333333, 9224.056666666667, 9177.006666666666, 9545.066666666668, 9562.85, 9028.936666666666, 9537.893333333333, 9041.47, 8926.353333333333, 10292.183333333332, 9988.383333333333, 9302.343333333334, 8744.396666666667, 8880.606666666667, 9455.62, 9744.81, 9477.603333333333, 9891.17, 9361.373333333333, 9413.416666666666, 9017.06, 9725.69, 9481.083333333334, 9661.166666666666, 9475.403333333334, 9731.193333333333, 9725.56, 9223.616666666667, 9430.44, 9794.55, 9024.24, 9724.31, 9590.783333333333, 9339.356666666667, 9554.02, 9431.74, 9321.876666666667, 9568.703333333333, 9523.12, 10007.27, 9645.853333333333, 9372.28, 9634.356666666667, 9229.99, 9765.47, 9131.103333333333, 9818.133333333333, 9355.696666666667, 9136.036666666667, 9372.523333333333, 9905.873333333333, 8886.673333333334, 9086.78, 9333.206666666667, 8948.63, 9445.686666666666, 9210.093333333334, 9380.6, 9324.643333333333, 9276.436666666666, 9275.936666666666, 9338.58, 9463.283333333333, 9476.433333333332, 9264.336666666666, 9483.223333333333, 9475.343333333334, 9520.84, 9585.07, 9454.516666666666, 9577.0, 9975.733333333334, 9558.913333333334, 9477.0, 9682.99, 8578.616666666667, 9033.93, 9162.366666666667, 9270.386666666667, 9408.956666666667, 9009.563333333334, 9779.38, 9300.25, 9531.76, 9636.67, 9684.133333333333, 9133.136666666667, 9043.54, 9427.803333333333, 9312.12, 9248.263333333334, 9556.57, 9689.743333333334, 9547.78, 9696.236666666666, 9727.736666666666, 9311.833333333334, 10067.68, 9122.553333333333, 8981.46, 9567.636666666667, 9766.546666666667, 9433.103333333333, 9102.813333333334, 9643.94, 9912.68, 9610.85, 9651.2, 9196.613333333333, 8850.083333333334, 9862.186666666666, 9859.026666666667, 9802.33, 9206.81, 9786.236666666666, 9151.36, 9058.733333333334, 8946.076666666666, 9412.35, 9334.306666666667, 9455.696666666667, 9448.19, 9707.91, 8623.65, 9388.253333333334, 9754.023333333333, 8822.48, 9428.716666666667, 9488.903333333334, 9834.166666666666, 9489.496666666666, 9312.233333333334, 9143.516666666666, 9817.99, 9714.96, 9612.283333333333, 9953.293333333333, 10003.046666666667, 9101.083333333334, 9369.516666666666, 9253.356666666667, 9629.076666666666, 9230.703333333333, 9133.246666666666, 9610.686666666666, 9505.253333333334, 9922.023333333333, 9567.926666666666, 9075.226666666667, 9271.38, 9473.84, 9509.113333333333, 9650.046666666667, 9467.846666666666, 9622.59, 9770.233333333334, 9908.393333333333, 9427.663333333334, 9303.293333333333, 9367.06, 9372.856666666667, 9189.986666666666, 9457.74, 9585.62, 9567.42, 9374.466666666667, 9422.75, 9650.656666666666, 9410.146666666667, 9079.98, 9400.583333333334, 9689.84, 9349.866666666667, 9452.776666666667, 9400.85, 9832.333333333334, 9392.993333333334, 9327.953333333333, 9639.52, 9506.773333333333, 9947.283333333333, 9158.736666666666, 9376.506666666666, 9375.176666666666, 9648.006666666666, 8870.726666666667, 9730.69, 9497.153333333334, 9643.596666666666, 9598.023333333333, 9144.443333333333, 10175.043333333333, 9262.19, 9119.486666666666, 10055.323333333334, 9448.05, 9588.466666666667, 9340.836666666666, 9315.823333333334, 9037.943333333333, 9620.206666666667, 9842.0, 9178.763333333334, 9280.173333333334, 9577.14, 9222.073333333334, 9002.876666666667, 9530.896666666667, 9206.396666666667, 9311.876666666667, 9519.616666666667, 9323.076666666666, 9491.44, 9041.963333333333, 9237.24, 9720.953333333333, 9381.986666666666, 9245.443333333333, 9708.49, 8950.583333333334, 9605.573333333334, 9291.3, 9188.65, 9741.63, 9122.44, 9799.786666666667, 9608.416666666666, 9779.99, 9233.476666666667, 9379.306666666667, 9106.373333333333, 9543.75, 9430.513333333334, 9813.09, 9728.11, 10225.576666666666, 8895.23, 9863.07, 8928.823333333334, 9173.303333333333, 9519.146666666667, 8733.913333333334, 9316.68, 9552.96, 9576.766666666666, 9299.316666666668, 9593.506666666666, 9298.6, 9795.7, 9384.94, 9319.73, 8841.92, 9120.606666666667, 9343.15, 9429.83, 9817.05, 9318.663333333334, 9821.36, 9709.196666666667, 9024.413333333334, 9672.813333333334, 9112.566666666668, 9181.506666666666, 9491.26, 9473.733333333334, 9449.516666666666, 9420.54, 9506.766666666666, 9489.96, 9558.26, 9843.22, 9634.07, 9379.99, 9522.023333333333, 9181.046666666667, 9551.356666666667, 9706.813333333334, 9190.643333333333, 9502.77, 9028.02, 9557.453333333333, 10143.213333333333, 9409.926666666666, 9461.476666666667, 9391.11, 9375.696666666667, 9164.073333333334, 9682.273333333333, 9726.956666666667, 9231.626666666667, 9751.226666666667, 9322.196666666667, 9191.82, 9531.7, 9519.786666666667, 9311.846666666666, 9666.356666666667, 8958.716666666667, 10214.9, 9610.19, 9569.59, 8751.756666666666, 9772.753333333334, 9555.743333333334, 9953.976666666667, 9646.363333333333, 9629.536666666667, 9626.033333333333, 9598.66, 9593.78, 8879.593333333334, 9308.936666666666, 9529.813333333334, 9060.356666666667, 9188.286666666667, 9512.616666666667, 9066.363333333333, 9846.433333333332, 9871.0, 9525.41, 9993.796666666667, 9504.023333333333, 9663.436666666666, 9717.12, 8830.51, 9196.87, 9101.673333333334, 9886.693333333333, 8808.58, 9566.513333333334, 9218.376666666667, 9709.72, 9279.363333333333, 8946.833333333334, 9943.96, 9570.796666666667, 9857.71, 9168.01, 9262.766666666666, 9109.906666666666, 9565.423333333334, 9411.56, 9399.87, 9347.53, 9199.06, 9071.853333333333, 9404.236666666666, 9918.96, 9095.593333333334, 9506.833333333334, 9820.213333333333, 9178.07, 9542.013333333334, 9372.1, 9807.756666666666, 8989.86, 9230.103333333333, 9322.343333333334, 9532.573333333334, 9255.443333333333, 9634.853333333333, 9298.38, 9375.47, 9383.903333333334, 9647.506666666666, 9715.286666666667, 9617.006666666666, 9636.14, 9253.986666666666, 9567.956666666667, 8879.646666666667, 9049.69, 9223.703333333333, 9044.626666666667, 9654.223333333333, 9617.973333333333, 9017.283333333333, 9218.33, 8926.543333333333, 9266.52, 9433.936666666666, 8972.123333333333, 9187.936666666666, 9623.486666666666, 9288.953333333333, 9514.463333333333, 9276.28, 9352.243333333334, 9122.686666666666, 9256.126666666667, 9444.95, 9693.26, 9311.13, 9468.7, 9152.793333333333, 8998.503333333334, 9519.366666666667, 9819.146666666667, 9058.7, 9264.1, 9369.276666666667, 9778.846666666666, 9342.47, 9520.786666666667, 9569.106666666667, 9535.453333333333, 9775.353333333333, 9359.11, 9857.94, 9133.333333333334, 9051.123333333333, 9532.106666666667, 9475.96, 9062.02, 9542.993333333334, 9160.43, 9387.746666666666, 9642.946666666667, 9674.81, 9271.713333333333]\n"
          ]
        }
      ]
    },
    {
      "cell_type": "code",
      "source": [
        "np.mean(male_sample_data)"
      ],
      "metadata": {
        "colab": {
          "base_uri": "https://localhost:8080/"
        },
        "id": "b7utYN1h3qPz",
        "outputId": "c505ac97-da03-47c9-e80b-9d8987a5c1cd"
      },
      "execution_count": 12,
      "outputs": [
        {
          "output_type": "execute_result",
          "data": {
            "text/plain": [
              "9432.762510000002"
            ]
          },
          "metadata": {},
          "execution_count": 12
        }
      ]
    },
    {
      "cell_type": "code",
      "source": [
        "np.mean(female_sample_data)"
      ],
      "metadata": {
        "colab": {
          "base_uri": "https://localhost:8080/"
        },
        "id": "9br5pBl-w2QN",
        "outputId": "5721a089-37be-4f23-dd24-2eb08766b692"
      },
      "execution_count": 13,
      "outputs": [
        {
          "output_type": "execute_result",
          "data": {
            "text/plain": [
              "8737.140563333334"
            ]
          },
          "metadata": {},
          "execution_count": 13
        }
      ]
    },
    {
      "cell_type": "code",
      "source": [
        "sns.histplot(male_sample_data)"
      ],
      "metadata": {
        "colab": {
          "base_uri": "https://localhost:8080/",
          "height": 447
        },
        "id": "t00bhT9gw6V5",
        "outputId": "489fca8d-cb35-4ba5-9dc0-25836dd7837c"
      },
      "execution_count": 14,
      "outputs": [
        {
          "output_type": "execute_result",
          "data": {
            "text/plain": [
              "<Axes: ylabel='Count'>"
            ]
          },
          "metadata": {},
          "execution_count": 14
        },
        {
          "output_type": "display_data",
          "data": {
            "text/plain": [
              "<Figure size 640x480 with 1 Axes>"
            ],
            "image/png": "[encoded data removed]"
          },
          "metadata": {}
        }
      ]
    },
    {
      "cell_type": "code",
      "source": [
        "sns.histplot(female_sample_data)"
      ],
      "metadata": {
        "colab": {
          "base_uri": "https://localhost:8080/",
          "height": 447
        },
        "id": "y53ltE-Tw-Mt",
        "outputId": "4acfd3af-4594-44ea-8dad-f4ab3827f1f1"
      },
      "execution_count": 15,
      "outputs": [
        {
          "output_type": "execute_result",
          "data": {
            "text/plain": [
              "<Axes: ylabel='Count'>"
            ]
          },
          "metadata": {},
          "execution_count": 15
        },
        {
          "output_type": "display_data",
          "data": {
            "text/plain": [
              "<Figure size 640x480 with 1 Axes>"
            ],
            "image/png": "[encoded data removed]"
          },
          "metadata": {}
        }
      ]
    },
    {
      "cell_type": "markdown",
      "source": [
        "95% confidence interval"
      ],
      "metadata": {
        "id": "zoBkR-sjxE4P"
      }
    },
    {
      "cell_type": "code",
      "source": [
        "male_confidence_interval95=np.percentile(male_sample_data, [2.5, 97.5])"
      ],
      "metadata": {
        "id": "8ckFSqR1xBpw"
      },
      "execution_count": 16,
      "outputs": []
    },
    {
      "cell_type": "code",
      "source": [
        "print(male_confidence_interval95)"
      ],
      "metadata": {
        "colab": {
          "base_uri": "https://localhost:8080/"
        },
        "id": "78uLSivMxVuS",
        "outputId": "f61ca02c-f8a3-427f-d84c-f16c35d086cf"
      },
      "execution_count": 17,
      "outputs": [
        {
          "output_type": "stream",
          "name": "stdout",
          "text": [
            "[ 8822.43666667 10008.8465    ]\n"
          ]
        }
      ]
    },
    {
      "cell_type": "code",
      "source": [
        "female_confidence_interval95=np.percentile(female_sample_data, [2.5, 97.5])"
      ],
      "metadata": {
        "id": "_ov0HaxqxZhK"
      },
      "execution_count": 18,
      "outputs": []
    },
    {
      "cell_type": "code",
      "source": [
        "print(female_confidence_interval95)"
      ],
      "metadata": {
        "colab": {
          "base_uri": "https://localhost:8080/"
        },
        "id": "xw2-nUHkxeiB",
        "outputId": "1f3da873-801d-4454-da33-3722aafcfa7a"
      },
      "execution_count": 19,
      "outputs": [
        {
          "output_type": "stream",
          "name": "stdout",
          "text": [
            "[8183.03541667 9305.12466667]\n"
          ]
        }
      ]
    },
    {
      "cell_type": "markdown",
      "source": [
        "90% confidence interval"
      ],
      "metadata": {
        "id": "6SS8GP8myE1U"
      }
    },
    {
      "cell_type": "code",
      "source": [
        "male_confidence_interval90=np.percentile(male_sample_data, [5, 95])\n",
        "print(male_confidence_interval90)\n",
        "female_confidence_interval90=np.percentile(female_sample_data, [5, 95])\n",
        "print(female_confidence_interval90)"
      ],
      "metadata": {
        "colab": {
          "base_uri": "https://localhost:8080/"
        },
        "id": "R5YjafyJyImE",
        "outputId": "842fcc66-6cb9-4bb1-b0e3-572e105bf0fa"
      },
      "execution_count": 20,
      "outputs": [
        {
          "output_type": "stream",
          "name": "stdout",
          "text": [
            "[8937.74266667 9922.26383333]\n",
            "[8300.3065     9219.07183333]\n"
          ]
        }
      ]
    },
    {
      "cell_type": "markdown",
      "source": [
        "99% confidence interval"
      ],
      "metadata": {
        "id": "lSuNFhLjyrzN"
      }
    },
    {
      "cell_type": "code",
      "source": [
        "male_confidence_interval99=np.percentile(male_sample_data, [0.5, 99.5])\n",
        "print(male_confidence_interval99)\n",
        "female_confidence_interval99=np.percentile(female_sample_data, [0.5, 99.5])\n",
        "print(female_confidence_interval99)"
      ],
      "metadata": {
        "colab": {
          "base_uri": "https://localhost:8080/"
        },
        "id": "DlV8dF9EyoD0",
        "outputId": "0e837f76-d627-4364-9035-6c6b752a05e6"
      },
      "execution_count": 21,
      "outputs": [
        {
          "output_type": "stream",
          "name": "stdout",
          "text": [
            "[ 8721.06006667 10228.37113333]\n",
            "[8080.81795    9474.72176667]\n"
          ]
        }
      ]
    },
    {
      "cell_type": "code",
      "source": [
        "sample_size=500\n",
        "female_sample_data_1=[df[df['Gender']=='F'].sample(sample_size,replace=True)['Purchase'].mean() for i in range(1000)]\n",
        "male_sample_data_1=[df[df['Gender']=='M'].sample(sample_size,replace=True)['Purchase'].mean() for i in range(1000)]"
      ],
      "metadata": {
        "id": "xZpNmDU7y6tR"
      },
      "execution_count": 22,
      "outputs": []
    },
    {
      "cell_type": "code",
      "source": [
        "print(female_sample_data_1)"
      ],
      "metadata": {
        "colab": {
          "base_uri": "https://localhost:8080/"
        },
        "id": "T1xHOs1H4i3n",
        "outputId": "23fb4f0e-0bda-49a4-9ed3-f1aa4832b141"
      },
      "execution_count": 23,
      "outputs": [
        {
          "output_type": "stream",
          "name": "stdout",
          "text": [
            "[8433.288, 8729.082, 8630.212, 8930.71, 9271.458, 8461.358, 9125.09, 8522.59, 9040.802, 9029.434, 8659.822, 8675.782, 8909.75, 8519.774, 8663.268, 8794.784, 8758.924, 8642.564, 8838.4, 8826.436, 8420.6, 8635.322, 9136.106, 8525.328, 9006.808, 9037.444, 8691.898, 8405.136, 8524.936, 9246.744, 8886.062, 8540.51, 8925.08, 8737.684, 8649.862, 8974.934, 8753.524, 8680.158, 9003.092, 8415.408, 8616.596, 8763.616, 8756.126, 8691.736, 8189.866, 8659.838, 8875.326, 8917.34, 8985.02, 8867.988, 8913.41, 8593.496, 8685.072, 8381.846, 8745.384, 8786.714, 8559.716, 8472.038, 9063.47, 8436.796, 9183.37, 8815.242, 8381.664, 8392.756, 8650.242, 8811.822, 9043.412, 8946.11, 8975.164, 9092.156, 8948.204, 8698.982, 8766.02, 8580.832, 8636.416, 8825.502, 8886.514, 8723.718, 8696.41, 9005.3, 8788.0, 8900.852, 8653.744, 8790.698, 8425.648, 8782.736, 8782.574, 8648.232, 8578.432, 9024.124, 8777.574, 8711.932, 8659.96, 8731.988, 8391.592, 8933.612, 9010.674, 8648.04, 8822.998, 8919.8, 8588.382, 8894.244, 8465.83, 8587.246, 9247.856, 8475.168, 9070.628, 8401.33, 8930.42, 8661.07, 8520.084, 8321.198, 8617.236, 8928.78, 8562.156, 8668.882, 8769.526, 9056.878, 8730.466, 8829.454, 8571.59, 8792.424, 8282.738, 8722.428, 8907.916, 9085.038, 8705.31, 8734.49, 8590.534, 8776.116, 9072.29, 8325.368, 8401.368, 8347.816, 8417.4, 8589.004, 8142.494, 9121.858, 9085.84, 8530.484, 8899.994, 8727.734, 8874.018, 8501.608, 8608.336, 8823.812, 8925.268, 8279.83, 8720.028, 8622.298, 8861.662, 8715.016, 8780.326, 8361.196, 8710.112, 8409.482, 8723.52, 8910.694, 8965.626, 8815.18, 8637.496, 8842.102, 8922.762, 8553.116, 8921.666, 8652.478, 8677.964, 8539.334, 9050.212, 8696.622, 8533.39, 8959.866, 8520.582, 8926.186, 8580.626, 9008.936, 8865.704, 8394.99, 8899.874, 8713.054, 8681.196, 8720.706, 8854.886, 8731.052, 8856.878, 8612.948, 8559.262, 8360.59, 8498.932, 8698.514, 8732.744, 9070.708, 8910.98, 8611.316, 8776.022, 8661.696, 9015.122, 8969.534, 8557.674, 8639.636, 8570.598, 8739.948, 8454.006, 8815.79, 9054.3, 8730.292, 8687.938, 8765.792, 8897.552, 8583.726, 9130.224, 8647.236, 8893.63, 8784.038, 8961.982, 8724.982, 8834.29, 8777.14, 8534.276, 8695.154, 8658.56, 8772.29, 8828.29, 8854.292, 8749.668, 8251.292, 8598.132, 8952.16, 8694.344, 8715.692, 8783.848, 8843.49, 8910.542, 8993.542, 8687.152, 8673.158, 9096.664, 8567.11, 8470.024, 8895.888, 8820.974, 8752.634, 8682.774, 8495.33, 8664.894, 8839.758, 8774.77, 8528.47, 8691.754, 9037.902, 8503.11, 8882.066, 8561.312, 8620.222, 8682.374, 9097.618, 8522.392, 8644.926, 8758.09, 8580.924, 8312.504, 9197.576, 8944.354, 8526.828, 8911.03, 8893.156, 9062.086, 8446.502, 8987.522, 8890.936, 8906.516, 8419.298, 8756.1, 8867.166, 8819.114, 8927.544, 8940.946, 8504.948, 8869.404, 8372.296, 8853.534, 8558.582, 8223.914, 8735.378, 8849.75, 8647.37, 8994.346, 8904.246, 8747.856, 8847.822, 8775.496, 8613.636, 8845.492, 8918.818, 8378.172, 8511.38, 8848.066, 8829.78, 8743.18, 8645.724, 8902.152, 8628.728, 8951.83, 8584.26, 8745.822, 8961.336, 9027.436, 8747.646, 9042.358, 8863.662, 8570.388, 8412.702, 8921.688, 8513.416, 8810.188, 8371.44, 8834.87, 8179.556, 8743.472, 8712.102, 8714.88, 8464.358, 9243.566, 8746.326, 9105.12, 8815.97, 8896.246, 8877.738, 8769.182, 8613.828, 8733.586, 8831.782, 8451.748, 8386.566, 8770.722, 9010.458, 8596.528, 9072.338, 8784.05, 8836.646, 9008.414, 8828.924, 8679.398, 8585.462, 8692.298, 8747.186, 8878.852, 8554.21, 8463.754, 8709.524, 8679.43, 8902.726, 8722.104, 9039.592, 8935.086, 8743.484, 8845.012, 8717.938, 9149.896, 8709.096, 8711.78, 8746.708, 8777.43, 8664.054, 9003.964, 8610.498, 8330.15, 8891.214, 8650.028, 8647.21, 8492.672, 8321.41, 8587.612, 8563.562, 8557.334, 8971.224, 8476.164, 8690.778, 8992.082, 8620.83, 8917.068, 9105.608, 8834.008, 8587.38, 8795.928, 8526.156, 8814.012, 8498.97, 8747.12, 8552.676, 8918.038, 9099.512, 8939.05, 8556.434, 8757.788, 8984.582, 8465.136, 8485.132, 8730.632, 9010.354, 8381.622, 8902.968, 8440.366, 8812.94, 9169.838, 8787.802, 8319.5, 8862.964, 8703.24, 8522.812, 8603.406, 8516.54, 8353.186, 8953.882, 8653.422, 8911.896, 8688.154, 8949.386, 9041.884, 8492.49, 8809.596, 8673.664, 8906.12, 8788.334, 8448.714, 8479.654, 8854.262, 8951.588, 8924.152, 8906.726, 8607.318, 8621.204, 8731.238, 9129.566, 8776.714, 8570.666, 8528.804, 8642.78, 8646.046, 8682.32, 8839.562, 9012.29, 8869.144, 8427.406, 8362.424, 8417.666, 8939.768, 9203.77, 8634.17, 8892.03, 8944.506, 8875.016, 8849.088, 8661.826, 8706.292, 9111.67, 8638.004, 9030.172, 9080.298, 8631.876, 8969.362, 8694.002, 8922.232, 8579.852, 8416.114, 8839.68, 8398.758, 8810.866, 8877.02, 8977.25, 8588.112, 8844.546, 8667.554, 8627.572, 8509.008, 8657.91, 8361.93, 8930.616, 8853.06, 8691.352, 8806.62, 8984.504, 9034.964, 8749.498, 8686.676, 8771.448, 8514.61, 8958.208, 8905.874, 8413.412, 8718.718, 8666.572, 8668.474, 8429.918, 8584.064, 8811.814, 8986.5, 8867.18, 8864.32, 9165.934, 8838.828, 8715.998, 8441.206, 8711.968, 8573.482, 9015.984, 8605.808, 8852.482, 8538.464, 8821.982, 8825.39, 8523.06, 8613.906, 8488.338, 8864.556, 8842.102, 8621.18, 8822.994, 9030.75, 8357.538, 8725.168, 8639.368, 8406.55, 8818.524, 8615.946, 8873.552, 8555.454, 8587.196, 8780.348, 8912.38, 8252.4, 8231.576, 8613.316, 8709.086, 8668.046, 8989.458, 8386.034, 8501.614, 8600.198, 8313.95, 8561.792, 8689.78, 8715.932, 8555.016, 8798.486, 8910.522, 8709.774, 8765.968, 8725.18, 8984.5, 8990.788, 8524.072, 9004.318, 8476.516, 8910.984, 8858.226, 8713.636, 9160.036, 8890.478, 8737.582, 8089.618, 8569.612, 8498.252, 8868.446, 8754.568, 8770.206, 8735.718, 8703.108, 8480.596, 8780.472, 8494.42, 8626.918, 8681.726, 9137.546, 8942.91, 8863.086, 8881.046, 8666.256, 8330.674, 8746.148, 8984.72, 9009.758, 8725.496, 8772.47, 8435.784, 8630.174, 8875.622, 8818.378, 8640.834, 8508.662, 8672.994, 8602.764, 8798.5, 8997.698, 8769.788, 8585.586, 8791.484, 8938.022, 8775.902, 9016.19, 8845.886, 8552.834, 8874.28, 8759.118, 8774.304, 8735.296, 8699.19, 8516.152, 9106.352, 8787.518, 8851.172, 8947.776, 9072.62, 8546.988, 8794.042, 9046.028, 8641.334, 8712.118, 8640.774, 8607.146, 8796.134, 8870.66, 8832.44, 8414.048, 8538.292, 8745.668, 8925.612, 8955.998, 8970.336, 8893.68, 8603.524, 8643.006, 8930.524, 9068.42, 8966.714, 9431.692, 8816.252, 8714.994, 8737.776, 8676.958, 8954.334, 8703.274, 9323.306, 8423.884, 8499.28, 8423.184, 8568.714, 8915.58, 8722.394, 8738.504, 8657.26, 8740.408, 8988.216, 8486.85, 9020.41, 8663.348, 8826.19, 8622.368, 8669.244, 8441.84, 9038.594, 8536.014, 8814.928, 8367.394, 8279.428, 8665.572, 8680.11, 8778.576, 8873.552, 8609.994, 8827.878, 8571.888, 8847.896, 8425.344, 8585.616, 8669.392, 9120.972, 8533.198, 8617.172, 8795.996, 8467.328, 8606.81, 9120.264, 8537.196, 8526.126, 8925.962, 8941.438, 8470.45, 9038.924, 8593.82, 8546.728, 8918.512, 8550.174, 8439.88, 8772.444, 8834.124, 8985.71, 9160.542, 9172.938, 8863.858, 8256.026, 8777.592, 8412.826, 8623.56, 8640.31, 8852.206, 9100.974, 8678.878, 8829.146, 8721.524, 8963.648, 8990.954, 8617.672, 8498.25, 8465.192, 8392.958, 8452.598, 8899.104, 8739.194, 8813.646, 8793.966, 8732.784, 8581.964, 8724.612, 9140.59, 8903.202, 9200.922, 8720.612, 8463.942, 8591.33, 8775.678, 8548.41, 8670.578, 8865.762, 9148.88, 8595.932, 8803.066, 8445.07, 8517.798, 8408.198, 8465.278, 8796.15, 8345.704, 8318.596, 8605.544, 8706.666, 8541.066, 8554.292, 8781.812, 8609.598, 8527.11, 8588.748, 8694.73, 8606.552, 8782.452, 8760.688, 8542.674, 8546.394, 8814.364, 9070.158, 8551.4, 8985.4, 8553.696, 8470.44, 8767.996, 8918.838, 8539.428, 8685.022, 9125.84, 8655.862, 8760.14, 8973.276, 8816.378, 8686.34, 8918.872, 8543.464, 8909.532, 8886.888, 8629.384, 8452.556, 8634.738, 8355.436, 8515.662, 8648.642, 8906.588, 9097.688, 8932.102, 8767.808, 8677.548, 8682.79, 8658.808, 8879.686, 8647.358, 8690.956, 8617.76, 9172.932, 8417.878, 8850.368, 8953.586, 8797.554, 9123.544, 9010.746, 8577.386, 8679.974, 8590.088, 8563.156, 8837.828, 8557.65, 8721.89, 8914.296, 8658.986, 8568.418, 8900.164, 8835.96, 8226.1, 8883.482, 8669.388, 8608.51, 8805.308, 8622.48, 8802.186, 8638.5, 8795.664, 8722.716, 8764.92, 8596.256, 8828.91, 8837.224, 8895.256, 8902.718, 8805.878, 8616.968, 8900.738, 8936.64, 8726.236, 8624.74, 8855.074, 8916.912, 8739.726, 8847.274, 8337.114, 8420.406, 8577.776, 8673.678, 8777.196, 8808.188, 8328.254, 8577.95, 8912.33, 8826.772, 8640.994, 8831.468, 8530.29, 8357.174, 8821.02, 8668.348, 8642.826, 8626.442, 9008.146, 8948.152, 8521.554, 8914.878, 9327.846, 8420.86, 9178.58, 8591.874, 8741.956, 8451.34, 9044.084, 8905.25, 8841.222, 8725.132, 8635.968, 8577.05, 8724.67, 9131.082, 8632.826, 8641.152, 8632.944, 8375.622, 8809.318, 8816.714, 8660.312, 8952.394, 8508.008, 8537.324, 8375.548, 8838.266, 8851.206, 8660.08, 8862.288, 8582.532, 8840.642, 8907.686, 8856.11, 8564.5, 8456.718, 8616.934, 8876.658, 9003.618, 8583.28, 9087.278, 9152.366, 8771.08, 9013.132, 8731.58, 8785.77, 8751.67, 8959.116, 8866.306, 8536.344, 8770.292, 9045.904, 8468.502, 8718.87, 8730.378, 8470.672, 8323.704, 8967.702, 8512.008, 8933.788, 8559.08, 8434.364, 8579.132, 8745.43, 9253.972, 8784.988, 8590.324, 9009.1, 8793.32, 8785.664, 8543.712, 8650.21, 8987.004, 8661.66, 8332.802, 8407.166, 8596.27, 8751.468, 8684.166, 8541.154, 8628.168, 8759.988, 9161.19, 8920.62, 8821.154, 8512.334, 8854.026, 8493.968, 8868.176, 8839.676, 8775.616, 8802.628, 8555.858, 8862.776, 8858.452, 8879.236, 9033.022, 8763.81, 8586.712, 8682.712, 9001.672, 8802.998, 8722.174, 8606.398, 8516.49, 8302.574, 8340.662, 9305.052, 8710.648, 8697.922, 8909.626, 8794.882, 8821.374, 8491.854, 8800.45, 8942.062, 8706.566, 8741.894, 8352.98, 8602.142, 8932.366, 8516.334, 8879.68, 8655.344, 8617.364, 9075.132, 8690.842, 8889.938, 8554.306, 8760.022, 8935.266, 9031.404, 8835.222, 8810.694, 8559.78, 9056.808, 8877.308, 8873.344, 9211.804]\n"
          ]
        }
      ]
    },
    {
      "cell_type": "code",
      "source": [
        "print(male_sample_data_1)"
      ],
      "metadata": {
        "colab": {
          "base_uri": "https://localhost:8080/"
        },
        "id": "wyUzHoHe4rLP",
        "outputId": "4889cb50-6bfc-4fe2-99bf-b92b6d194d53"
      },
      "execution_count": 24,
      "outputs": [
        {
          "output_type": "stream",
          "name": "stdout",
          "text": [
            "[9482.366, 9658.932, 9335.612, 9560.208, 9454.428, 9336.282, 9530.282, 9525.444, 9235.016, 9388.432, 9185.456, 9144.444, 9281.142, 9132.908, 9576.536, 9882.418, 9692.012, 9473.964, 9397.002, 9428.046, 9729.408, 9155.542, 9540.152, 9450.822, 9363.442, 9591.522, 9709.938, 9608.804, 9133.562, 9764.75, 9610.566, 8903.07, 9210.71, 8959.482, 9458.326, 10189.698, 9633.42, 9239.154, 9368.1, 9620.832, 9584.434, 9455.912, 9432.926, 9300.276, 9263.614, 9377.966, 9628.27, 9773.992, 9784.75, 9404.252, 9223.116, 9241.508, 9310.936, 9452.142, 9367.748, 9485.07, 9897.888, 9630.68, 9221.11, 9648.956, 9505.28, 9565.976, 9298.522, 9175.974, 9172.8, 9149.61, 9033.082, 9000.442, 9720.946, 9538.012, 9346.722, 9594.478, 9121.416, 9310.85, 9516.412, 9051.536, 9563.956, 9114.682, 9385.152, 9356.734, 9139.536, 9182.066, 9672.566, 9241.324, 9136.768, 9690.082, 9740.222, 9609.954, 9320.29, 9565.116, 9696.462, 9463.442, 9306.492, 9494.768, 9689.288, 9658.698, 9392.57, 9423.604, 8783.428, 9738.254, 9367.462, 9273.902, 9254.052, 9374.81, 9229.714, 9659.144, 9054.108, 9548.73, 9329.254, 9356.822, 9037.888, 9230.426, 9206.326, 9734.26, 9571.488, 9059.78, 9451.684, 9883.578, 9681.252, 9411.67, 9722.07, 9574.854, 9152.332, 9198.016, 9390.044, 9380.8, 9698.094, 9345.572, 9652.402, 9553.624, 9719.604, 9330.678, 9408.522, 9543.28, 9414.634, 9762.758, 9349.262, 9732.368, 9833.304, 9422.886, 9209.534, 9881.666, 9786.844, 9262.81, 9349.542, 9200.82, 9378.048, 9425.932, 9773.896, 9292.882, 9601.79, 9483.32, 9291.948, 9612.874, 8929.07, 9555.186, 9647.654, 9354.122, 9014.994, 9272.372, 9705.956, 9536.464, 9765.866, 9477.912, 9092.286, 9294.976, 8896.108, 9318.708, 9344.554, 9441.828, 9810.1, 9264.704, 9359.02, 9436.84, 9058.618, 8950.16, 9489.238, 9576.978, 8941.054, 9079.102, 9334.896, 9419.218, 9487.64, 9292.602, 9497.278, 9110.21, 9153.898, 9345.744, 9660.014, 9655.552, 9187.78, 9425.016, 9387.944, 9735.61, 9384.552, 9385.22, 9604.492, 9768.674, 9224.684, 9629.34, 9463.162, 9110.978, 9450.002, 9460.04, 9512.63, 9672.246, 9494.334, 9595.872, 9310.768, 9400.36, 9509.09, 9510.466, 9831.812, 9652.944, 10045.848, 9424.344, 9634.536, 9484.666, 9631.768, 9266.082, 9254.252, 9048.262, 9329.362, 9607.13, 9185.428, 9450.6, 9278.724, 9383.336, 9766.298, 9109.722, 9531.29, 9239.486, 9404.056, 9383.29, 9709.746, 9267.06, 9532.114, 9538.988, 9279.42, 9341.282, 9476.464, 10011.398, 9278.854, 9626.3, 9676.952, 9263.784, 9456.23, 9438.268, 9373.242, 9602.398, 9577.658, 9397.576, 9361.388, 9594.582, 9698.66, 9274.46, 9986.192, 9115.284, 9334.484, 9026.852, 9017.574, 9664.636, 9690.356, 9444.17, 9516.948, 9985.29, 9551.108, 9257.09, 9226.906, 9513.414, 9578.936, 9580.428, 9542.066, 8924.182, 9362.206, 9670.532, 9422.57, 9802.274, 9158.57, 10099.55, 9220.266, 9022.908, 9564.636, 9626.736, 9242.788, 9520.576, 9800.478, 9274.87, 9574.588, 9398.524, 9232.524, 9444.19, 8928.074, 9550.518, 9700.924, 9766.988, 9382.648, 9480.872, 9921.1, 9483.882, 9454.072, 9489.268, 9392.844, 9719.656, 9432.226, 9398.924, 9609.234, 9317.63, 9422.032, 9679.366, 9530.272, 9298.654, 9400.462, 9404.654, 9433.932, 9464.594, 9622.948, 9339.478, 9486.87, 9288.53, 9623.092, 9542.898, 9128.682, 9593.322, 9431.224, 8985.606, 9286.242, 9483.716, 9342.908, 8930.204, 9357.102, 9197.7, 9536.834, 9076.876, 9220.93, 9273.794, 9560.0, 9321.916, 9642.876, 9988.472, 9174.338, 9164.722, 9522.212, 9379.09, 9460.466, 9400.23, 9170.828, 9830.286, 9053.632, 9320.358, 9592.018, 9210.238, 9476.082, 9195.866, 9311.5, 9428.538, 9453.172, 9260.324, 9293.528, 9407.764, 9467.102, 9232.96, 9660.114, 9454.434, 9375.166, 9669.154, 9585.298, 9259.894, 9126.826, 9471.184, 9776.944, 9643.968, 9685.888, 9224.644, 9447.73, 9799.668, 9506.978, 9557.374, 9582.58, 9001.72, 9142.792, 9748.868, 9437.41, 9630.762, 8965.426, 9467.054, 9353.628, 9049.972, 9511.048, 9212.38, 9511.132, 9295.398, 9392.926, 9164.892, 9189.598, 9631.282, 9855.924, 9515.344, 9314.806, 9529.858, 9575.742, 9149.72, 9529.624, 9687.672, 9600.738, 9212.894, 9156.424, 9112.894, 9395.466, 9124.25, 9478.942, 10013.524, 9381.428, 9595.426, 9660.026, 9656.712, 9472.904, 9724.198, 9467.81, 9697.478, 9783.272, 9383.198, 9449.588, 9378.694, 9534.762, 9582.304, 9476.894, 9586.442, 9645.218, 9133.678, 9577.408, 8928.738, 9234.248, 9582.82, 9173.27, 9388.434, 9132.762, 9204.342, 9376.76, 9826.244, 9216.794, 9036.012, 9415.692, 9529.732, 9480.762, 9501.954, 9053.352, 9973.35, 9600.972, 9404.642, 9634.72, 9480.252, 9520.48, 9206.702, 9331.978, 9242.08, 9312.632, 9188.336, 9647.798, 9236.418, 9111.618, 9364.318, 9197.168, 9510.6, 8980.136, 9403.568, 9089.628, 9080.342, 9314.01, 9134.42, 8869.438, 9442.268, 9593.554, 9438.116, 9404.786, 9386.372, 9336.528, 9065.878, 9197.358, 9453.406, 9375.63, 9356.714, 9642.722, 9285.114, 9569.634, 9521.77, 9354.52, 9574.06, 9605.172, 9500.95, 9634.81, 9355.68, 9570.252, 9602.618, 9217.642, 9143.662, 8913.138, 9313.82, 9505.162, 9562.474, 9734.138, 9401.87, 9063.188, 9542.31, 9455.656, 9498.18, 9851.83, 9721.166, 9166.566, 9734.44, 9512.218, 9295.638, 9343.262, 9408.3, 9264.952, 9265.352, 9530.646, 9452.27, 9526.362, 9458.778, 9211.278, 9323.932, 9483.264, 9640.144, 9483.17, 9151.544, 9370.506, 9435.968, 8945.352, 9472.714, 9567.91, 9148.218, 9242.69, 9508.916, 9614.048, 9657.956, 9356.108, 9731.832, 9568.548, 9259.4, 9353.33, 9474.664, 9125.524, 9345.048, 9547.33, 9647.248, 9450.976, 9685.22, 9654.462, 9756.174, 9405.232, 9563.54, 9702.938, 9469.55, 9379.57, 9315.27, 9406.734, 9274.334, 9023.908, 9233.126, 9064.3, 9405.988, 9971.464, 9435.628, 9663.326, 9417.982, 9575.542, 9374.664, 9480.732, 9270.826, 9917.27, 9356.09, 9258.554, 9632.316, 9715.5, 9248.754, 9323.898, 9789.636, 9469.684, 9324.37, 9581.668, 9436.026, 9599.25, 9837.55, 9243.802, 9524.59, 9845.856, 9304.748, 9562.13, 9322.414, 9059.676, 9459.262, 9277.4, 9691.534, 9479.704, 9459.34, 9376.992, 9656.974, 9518.314, 9196.744, 9425.33, 9598.562, 9350.44, 9825.16, 9723.428, 9512.666, 9122.968, 9437.984, 9618.716, 9222.968, 9573.248, 9608.638, 9240.438, 9425.17, 9435.058, 9612.228, 9497.884, 9429.728, 9561.658, 9842.346, 9276.898, 9415.122, 9548.93, 9463.604, 9382.056, 9447.346, 9308.908, 9627.142, 9643.068, 9393.826, 9223.228, 9562.33, 10240.102, 9179.518, 9546.848, 9596.274, 9476.746, 9764.48, 9664.496, 9141.846, 9434.202, 9492.124, 9102.872, 9480.428, 9390.668, 9613.58, 9151.694, 9003.964, 9422.484, 9411.474, 9425.784, 9549.852, 9360.098, 9547.534, 9197.058, 9426.35, 10035.398, 9873.318, 9676.87, 9218.17, 9510.856, 9226.144, 9461.616, 9342.202, 9536.002, 9300.02, 9256.742, 8855.04, 9241.098, 9663.854, 9537.138, 9406.392, 9198.05, 9682.198, 9482.416, 9777.156, 9773.478, 9053.708, 9542.094, 9365.38, 9616.374, 9559.414, 9338.862, 9214.166, 9547.046, 9643.95, 9549.45, 9448.59, 9057.344, 9520.21, 9224.49, 9454.866, 9723.286, 10039.3, 9261.478, 9609.942, 9315.186, 9426.292, 9770.334, 9536.012, 9452.896, 9740.62, 9160.37, 9213.996, 9382.536, 9431.954, 9918.844, 9121.336, 9767.618, 9262.402, 9133.206, 9592.974, 9532.644, 9350.488, 9649.026, 9084.56, 9618.07, 9370.616, 9566.094, 9583.62, 9120.824, 9260.226, 9334.332, 9585.618, 9193.792, 9313.392, 9330.9, 9519.202, 9601.816, 10129.574, 9615.2, 9339.7, 9528.068, 9402.864, 9480.8, 9261.202, 9338.552, 9670.068, 9516.864, 9825.952, 9222.388, 9149.602, 9611.784, 9463.734, 9445.092, 9129.546, 9100.838, 9108.02, 9238.862, 9590.784, 9646.126, 8965.064, 9285.386, 9319.146, 9212.004, 9325.232, 9428.938, 9192.982, 9618.512, 9196.076, 9472.48, 9012.038, 9348.268, 9557.964, 9509.192, 9512.072, 9617.65, 9383.846, 9717.434, 9073.014, 9560.97, 9459.744, 9300.556, 9081.302, 9318.65, 9307.66, 9642.036, 9497.122, 9362.89, 9338.892, 9066.42, 9125.044, 9705.424, 9796.846, 9242.668, 9977.016, 9652.594, 9450.378, 9835.54, 9586.248, 9672.018, 9506.084, 9440.188, 9192.67, 9578.532, 9235.04, 9177.648, 9483.234, 8910.494, 9614.596, 9426.868, 9446.088, 9880.308, 9333.988, 9583.348, 9398.294, 9554.082, 9613.566, 9426.708, 9725.172, 9454.804, 9136.468, 9627.206, 9750.328, 9255.436, 9458.85, 9480.464, 9629.106, 9963.78, 9976.018, 9380.428, 9523.482, 9463.404, 8961.81, 9751.33, 9852.354, 9277.63, 9548.112, 9616.698, 9052.148, 9530.112, 9530.534, 9534.338, 9066.446, 9312.256, 9376.61, 9418.388, 9138.954, 9379.18, 9426.814, 9534.324, 9546.828, 9343.76, 9442.212, 9513.8, 9445.188, 9595.2, 9426.374, 9570.486, 9550.206, 9749.194, 9497.534, 9045.58, 9426.242, 9701.874, 9243.038, 9543.2, 9341.632, 9235.932, 9664.802, 9337.386, 9185.936, 9405.09, 9208.668, 9135.95, 8978.426, 9559.742, 9783.684, 9443.596, 9515.12, 9616.446, 9547.988, 9211.354, 9693.45, 9757.478, 9825.074, 9815.35, 9575.886, 9540.602, 9502.0, 8991.802, 9358.984, 9203.782, 9422.248, 9458.066, 9734.98, 9791.664, 9197.338, 9347.68, 9381.554, 9599.018, 9168.63, 9490.582, 9544.052, 9058.49, 9548.578, 9128.83, 9444.014, 9329.6, 10031.574, 9276.346, 9519.856, 10135.132, 9302.982, 9176.31, 9229.164, 9388.224, 9661.242, 8957.264, 9306.42, 9376.782, 9066.98, 9050.196, 9566.822, 9608.648, 9021.334, 8903.092, 9444.616, 9471.038, 9379.29, 9508.856, 9754.516, 9593.298, 9971.398, 9218.996, 9140.174, 10013.162, 9468.612, 9552.248, 9203.47, 8969.384, 9362.662, 9099.946, 10026.578, 9322.276, 9665.398, 9387.104, 9098.9, 9072.608, 9748.55, 9328.66, 9448.526, 9475.9, 8936.212, 9390.856, 9128.718, 9196.148, 9623.508, 9085.06, 9381.342, 9479.72, 9789.132, 9790.6, 9389.622, 9106.512, 9097.376, 9577.408, 9195.272, 9489.508, 9711.326, 9576.554, 9081.99, 9612.83, 9230.02, 9211.656, 9425.254, 9137.222, 9411.416, 9248.496, 9793.338, 9897.72, 9530.54, 9656.732, 9176.834, 9607.454, 9653.302, 9407.444, 9183.976, 9573.366, 9550.812, 9603.086, 9051.32, 9438.79, 9439.052, 9213.78, 8836.78, 9474.582, 9511.156, 9090.752, 9357.446, 9571.426, 9517.418, 9552.352, 9686.11, 9454.304, 9654.112, 9421.832, 9345.794, 9423.036, 9534.942]\n"
          ]
        }
      ]
    },
    {
      "cell_type": "code",
      "source": [
        "np.mean(female_sample_data_1)\n"
      ],
      "metadata": {
        "colab": {
          "base_uri": "https://localhost:8080/"
        },
        "id": "03GkJMrw56CX",
        "outputId": "6e37acda-7bb4-4f1d-d56c-b6681669102f"
      },
      "execution_count": 25,
      "outputs": [
        {
          "output_type": "execute_result",
          "data": {
            "text/plain": [
              "8736.172005999999"
            ]
          },
          "metadata": {},
          "execution_count": 25
        }
      ]
    },
    {
      "cell_type": "code",
      "source": [
        "np.mean(male_sample_data_1)"
      ],
      "metadata": {
        "colab": {
          "base_uri": "https://localhost:8080/"
        },
        "id": "wxolj8L-6gLG",
        "outputId": "66a1a27b-b7a5-4eb8-b534-472970f0e5bd"
      },
      "execution_count": 26,
      "outputs": [
        {
          "output_type": "execute_result",
          "data": {
            "text/plain": [
              "9434.211106"
            ]
          },
          "metadata": {},
          "execution_count": 26
        }
      ]
    },
    {
      "cell_type": "code",
      "source": [
        "sns.histplot(female_sample_data_1)"
      ],
      "metadata": {
        "colab": {
          "base_uri": "https://localhost:8080/",
          "height": 447
        },
        "id": "V5JATkSu6hl1",
        "outputId": "1eb09713-c3ef-4d01-bae4-15dd14c02daa"
      },
      "execution_count": 27,
      "outputs": [
        {
          "output_type": "execute_result",
          "data": {
            "text/plain": [
              "<Axes: ylabel='Count'>"
            ]
          },
          "metadata": {},
          "execution_count": 27
        },
        {
          "output_type": "display_data",
          "data": {
            "text/plain": [
              "<Figure size 640x480 with 1 Axes>"
            ],
            "image/png": "[encoded data removed]"
          },
          "metadata": {}
        }
      ]
    },
    {
      "cell_type": "code",
      "source": [
        "sns.histplot(male_sample_data_1)"
      ],
      "metadata": {
        "colab": {
          "base_uri": "https://localhost:8080/",
          "height": 447
        },
        "id": "VybEPIrE6nSi",
        "outputId": "c3a49a49-4d33-4698-8a37-1d3092d92134"
      },
      "execution_count": 28,
      "outputs": [
        {
          "output_type": "execute_result",
          "data": {
            "text/plain": [
              "<Axes: ylabel='Count'>"
            ]
          },
          "metadata": {},
          "execution_count": 28
        },
        {
          "output_type": "display_data",
          "data": {
            "text/plain": [
              "<Figure size 640x480 with 1 Axes>"
            ],
            "image/png": "[encoded data removed]"
          },
          "metadata": {}
        }
      ]
    },
    {
      "cell_type": "markdown",
      "source": [
        "95% confidence interval"
      ],
      "metadata": {
        "id": "Aa8QBGiz4LIB"
      }
    },
    {
      "cell_type": "code",
      "source": [
        "male_confidence_interval_195=np.percentile(male_sample_data_1, [2.5, 97.5])\n",
        "print('male_confidence_interval:',male_confidence_interval_195)\n",
        "female_confidence_interval_195=np.percentile(female_sample_data_1, [2.5, 97.5])\n",
        "print('female_confidence_interval:',female_confidence_interval_195)"
      ],
      "metadata": {
        "colab": {
          "base_uri": "https://localhost:8080/"
        },
        "id": "dC-lnDAW4J_j",
        "outputId": "d1498e12-32eb-4efd-bf9c-e7c13c593881"
      },
      "execution_count": 29,
      "outputs": [
        {
          "output_type": "stream",
          "name": "stdout",
          "text": [
            "male_confidence_interval: [8980.09325 9898.37255]\n",
            "female_confidence_interval: [8332.7488  9140.79725]\n"
          ]
        }
      ]
    },
    {
      "cell_type": "markdown",
      "source": [
        "Married vs Unmarried"
      ],
      "metadata": {
        "id": "9uoWtmFX9NUZ"
      }
    },
    {
      "cell_type": "code",
      "source": [
        "sample_size=300\n",
        "married_sample_data=[df[df['Marital_Status']==1].sample(sample_size,replace=True)['Purchase'].mean() for i in range(1000)]\n",
        "unmarried_sample_data=[df[df['Marital_Status']==0].sample(sample_size,replace=True)['Purchase'].mean() for i in range(1000)]"
      ],
      "metadata": {
        "id": "RjgP8CQa9Nr6"
      },
      "execution_count": 30,
      "outputs": []
    },
    {
      "cell_type": "code",
      "source": [
        "print(married_sample_data)"
      ],
      "metadata": {
        "colab": {
          "base_uri": "https://localhost:8080/"
        },
        "id": "52q6l7zt_vpB",
        "outputId": "cc3fc8ca-1f64-4d5c-c9a7-57e16f448100"
      },
      "execution_count": 31,
      "outputs": [
        {
          "output_type": "stream",
          "name": "stdout",
          "text": [
            "[9327.32, 9187.173333333334, 9664.403333333334, 9413.576666666666, 8972.543333333333, 8821.103333333333, 9213.506666666666, 9959.976666666667, 9224.226666666667, 9492.386666666667, 9090.346666666666, 9197.77, 8626.833333333334, 9169.473333333333, 9406.27, 9518.66, 9656.166666666666, 9289.31, 8867.793333333333, 9301.693333333333, 9445.343333333334, 9415.553333333333, 9647.296666666667, 9076.633333333333, 8478.436666666666, 9607.693333333333, 9654.253333333334, 9196.346666666666, 9154.166666666666, 9466.776666666667, 9250.8, 9359.933333333332, 9132.633333333333, 9074.58, 9430.566666666668, 9202.85, 9147.146666666667, 9923.486666666666, 9261.453333333333, 9330.416666666666, 8827.316666666668, 10068.06, 9626.793333333333, 9562.683333333332, 9317.05, 9363.866666666667, 9343.983333333334, 8844.706666666667, 9051.803333333333, 9372.256666666666, 9590.48, 9166.84, 8885.656666666666, 9626.673333333334, 9236.956666666667, 9300.88, 9264.666666666666, 9468.156666666666, 8804.44, 9595.826666666666, 9444.166666666666, 9164.166666666666, 8672.096666666666, 8306.146666666667, 9348.27, 9667.763333333334, 8954.393333333333, 8898.166666666666, 8898.046666666667, 8621.863333333333, 9196.366666666667, 8978.316666666668, 9497.3, 9379.926666666666, 9331.843333333334, 9297.833333333334, 9297.303333333333, 8927.913333333334, 9303.333333333334, 9711.456666666667, 8926.833333333334, 9273.553333333333, 9170.966666666667, 8850.266666666666, 9170.526666666667, 9027.09, 8967.366666666667, 9121.26, 9238.003333333334, 9084.19, 9399.286666666667, 9111.073333333334, 9585.02, 9403.21, 8848.576666666666, 8794.023333333333, 9206.633333333333, 9215.183333333332, 9178.036666666667, 9047.223333333333, 10066.553333333333, 8730.273333333333, 9301.906666666666, 9249.4, 8954.953333333333, 9572.36, 9529.056666666667, 9209.64, 9064.856666666667, 9300.21, 9410.18, 8971.403333333334, 9741.686666666666, 9453.076666666666, 9087.236666666666, 9293.893333333333, 9411.746666666666, 9574.786666666667, 9567.94, 9411.123333333333, 9204.34, 9381.073333333334, 9362.066666666668, 8892.77, 9023.31, 9067.0, 9383.856666666667, 9201.423333333334, 9073.24, 8970.216666666667, 9606.936666666666, 9164.283333333333, 8872.246666666666, 8856.763333333334, 9708.226666666667, 9157.05, 9575.51, 8857.543333333333, 9022.436666666666, 9351.81, 9369.38, 8801.326666666666, 9047.01, 9248.08, 8990.323333333334, 9173.673333333334, 9489.083333333334, 9339.983333333334, 9300.883333333333, 9342.706666666667, 9883.303333333333, 8953.133333333333, 8946.48, 8339.566666666668, 9438.08, 9352.616666666667, 9358.696666666667, 9092.61, 9506.27, 9685.83, 9608.333333333334, 9203.283333333333, 9944.02, 9081.703333333333, 9306.21, 9035.076666666666, 9615.313333333334, 9186.27, 9117.0, 9939.123333333333, 9395.963333333333, 9619.106666666667, 9434.76, 9176.58, 9739.586666666666, 8699.586666666666, 9499.25, 9213.083333333334, 9472.406666666666, 8640.836666666666, 9466.403333333334, 9031.793333333333, 10062.953333333333, 8946.016666666666, 9005.44, 9006.51, 9159.35, 9792.783333333333, 9226.936666666666, 9150.7, 9429.5, 9556.053333333333, 8930.126666666667, 9459.22, 9635.99, 9526.97, 8828.923333333334, 9201.823333333334, 9417.056666666667, 9148.763333333334, 9413.646666666667, 8959.936666666666, 8683.94, 8910.903333333334, 8813.976666666667, 9189.213333333333, 9776.553333333333, 8957.026666666667, 9097.073333333334, 9007.683333333332, 9399.836666666666, 9185.396666666667, 9636.143333333333, 9506.283333333333, 9520.38, 8667.256666666666, 8969.97, 9435.236666666666, 9277.18, 9757.72, 9387.67, 9644.106666666667, 9689.226666666667, 9073.21, 9505.763333333334, 9480.25, 9104.113333333333, 8982.833333333334, 9221.933333333332, 9535.683333333332, 9554.326666666666, 9352.0, 9091.673333333334, 9239.656666666666, 8972.126666666667, 9080.136666666667, 9835.973333333333, 9027.256666666666, 9432.693333333333, 9213.583333333334, 9337.133333333333, 8425.0, 9087.246666666666, 9505.93, 8953.613333333333, 9624.91, 8679.43, 9295.813333333334, 9084.826666666666, 9383.97, 9104.946666666667, 9945.016666666666, 9286.876666666667, 9578.273333333333, 9797.31, 8544.476666666667, 8767.486666666666, 9276.71, 9157.613333333333, 9719.853333333333, 9126.416666666666, 8998.063333333334, 9185.59, 8823.196666666667, 8338.913333333334, 8981.706666666667, 9468.923333333334, 9424.1, 9764.13, 9332.14, 8998.253333333334, 9391.48, 9381.066666666668, 9424.25, 8989.28, 8806.243333333334, 9287.306666666667, 9313.453333333333, 8904.636666666667, 9249.73, 9474.696666666667, 9533.293333333333, 9373.8, 9857.876666666667, 9994.263333333334, 9397.673333333334, 9487.506666666666, 9140.566666666668, 9377.08, 9049.783333333333, 9102.433333333332, 8730.96, 9274.853333333333, 9074.093333333334, 8738.333333333334, 9641.803333333333, 8928.536666666667, 9924.443333333333, 9652.72, 9377.616666666667, 8977.093333333334, 9450.25, 8816.083333333334, 9018.24, 9711.193333333333, 9590.913333333334, 9061.913333333334, 9925.36, 9271.463333333333, 9149.196666666667, 9646.593333333334, 9066.19, 9357.43, 9121.943333333333, 9604.533333333333, 8989.693333333333, 9272.803333333333, 8945.616666666667, 8833.276666666667, 9176.513333333334, 9201.796666666667, 9535.0, 8866.563333333334, 9047.036666666667, 9061.196666666667, 9289.283333333333, 9551.956666666667, 9070.193333333333, 8781.03, 9961.39, 9143.096666666666, 9365.706666666667, 8732.68, 9277.8, 10208.733333333334, 9116.543333333333, 9452.36, 9440.816666666668, 8869.17, 9552.98, 9099.97, 8973.953333333333, 8601.883333333333, 9322.413333333334, 9139.736666666666, 9413.48, 9161.416666666666, 8986.58, 8751.976666666667, 9586.536666666667, 9178.586666666666, 9156.016666666666, 9697.34, 8950.016666666666, 9007.316666666668, 9173.313333333334, 9442.97, 9148.33, 9239.736666666666, 9375.98, 8870.593333333334, 9087.243333333334, 9231.313333333334, 9220.96, 9174.14, 9154.596666666666, 8942.44, 9249.823333333334, 8689.096666666666, 8933.85, 9355.32, 9154.33, 8927.616666666667, 9610.306666666667, 9534.543333333333, 9051.81, 9460.066666666668, 9477.766666666666, 8770.623333333333, 9191.04, 9199.86, 9575.236666666666, 8983.41, 8913.113333333333, 9130.823333333334, 8979.463333333333, 9367.876666666667, 9354.286666666667, 8591.16, 9120.656666666666, 9197.573333333334, 9184.716666666667, 9380.846666666666, 9015.67, 9426.07, 9156.803333333333, 9464.6, 9384.883333333333, 9113.63, 9097.213333333333, 9502.98, 8973.546666666667, 9078.006666666666, 9298.133333333333, 9436.023333333333, 9898.64, 8918.79, 8979.263333333334, 9433.443333333333, 9125.863333333333, 9423.11, 8878.73, 8942.97, 9020.02, 9360.226666666667, 9181.98, 8970.05, 9405.57, 9004.496666666666, 9433.433333333332, 9484.626666666667, 9615.923333333334, 9629.91, 9620.576666666666, 9043.986666666666, 9777.283333333333, 8955.67, 9179.1, 9432.606666666667, 9654.416666666666, 9073.68, 8972.786666666667, 9500.5, 9074.153333333334, 9346.476666666667, 9312.59, 9167.193333333333, 9204.18, 9146.153333333334, 8582.46, 9096.403333333334, 9417.92, 9419.08, 8778.11, 9221.803333333333, 8962.0, 9857.34, 9166.976666666667, 8679.573333333334, 9679.44, 9646.77, 9380.943333333333, 8996.4, 9155.676666666666, 9870.453333333333, 9548.173333333334, 9221.5, 9141.086666666666, 9022.336666666666, 9173.826666666666, 8857.386666666667, 9155.62, 9303.36, 9455.673333333334, 9683.936666666666, 9136.083333333334, 9136.07, 9337.153333333334, 8879.66, 9160.0, 9834.533333333333, 9166.15, 8884.703333333333, 8934.383333333333, 9350.796666666667, 9299.82, 8887.55, 9112.483333333334, 9109.083333333334, 8918.94, 9310.82, 9373.093333333334, 10253.66, 9233.116666666667, 9024.89, 9278.426666666666, 9590.403333333334, 9057.856666666667, 9048.186666666666, 8882.993333333334, 8929.236666666666, 9531.286666666667, 9151.043333333333, 9167.526666666667, 9107.323333333334, 9434.543333333333, 9098.14, 9309.733333333334, 8827.666666666666, 9375.473333333333, 9353.19, 9205.05, 8917.45, 9297.473333333333, 8936.626666666667, 9241.333333333334, 9547.893333333333, 9121.88, 9339.493333333334, 8878.636666666667, 9326.543333333333, 8866.783333333333, 9130.973333333333, 9549.54, 9186.516666666666, 8942.776666666667, 9050.236666666666, 9371.683333333332, 9970.316666666668, 9476.38, 9396.743333333334, 9048.796666666667, 9221.456666666667, 9411.553333333333, 9531.996666666666, 9042.603333333333, 8757.773333333333, 9128.136666666667, 8973.936666666666, 9066.04, 9403.896666666667, 9386.676666666666, 9833.51, 9539.066666666668, 8819.09, 8992.143333333333, 9511.886666666667, 9065.676666666666, 8925.276666666667, 9181.82, 9207.103333333333, 9117.686666666666, 8530.543333333333, 8855.44, 9420.736666666666, 9587.976666666667, 9115.32, 8895.176666666666, 9142.033333333333, 9310.533333333333, 9257.18, 9235.756666666666, 9139.61, 8806.843333333334, 8980.606666666667, 9685.216666666667, 8862.95, 9326.323333333334, 9506.04, 9250.92, 8674.106666666667, 9592.743333333334, 8793.366666666667, 9004.23, 9368.47, 9913.403333333334, 9364.933333333332, 9177.6, 9116.896666666667, 9974.726666666667, 9145.346666666666, 9225.746666666666, 9336.06, 9073.743333333334, 9314.313333333334, 9280.556666666667, 9562.433333333332, 9321.726666666667, 9097.586666666666, 9006.073333333334, 9373.81, 9585.313333333334, 9273.193333333333, 9204.18, 9588.013333333334, 9087.646666666667, 9260.003333333334, 9109.67, 9191.536666666667, 8988.346666666666, 8968.0, 9424.096666666666, 8849.433333333332, 9408.97, 8783.396666666667, 9453.396666666667, 9380.85, 9441.8, 9336.056666666667, 8829.223333333333, 9160.266666666666, 9150.92, 9353.523333333333, 9585.443333333333, 9563.09, 9207.03, 9173.703333333333, 9283.086666666666, 9398.293333333333, 9534.886666666667, 8887.873333333333, 8805.543333333333, 9759.883333333333, 9376.24, 9411.143333333333, 9463.316666666668, 9441.443333333333, 9028.356666666667, 9012.993333333334, 8965.066666666668, 9040.043333333333, 9383.91, 9152.443333333333, 8971.12, 9286.786666666667, 8957.3, 9185.96, 9225.313333333334, 9094.906666666666, 9842.646666666667, 9387.466666666667, 8973.873333333333, 9285.646666666667, 8823.386666666667, 9291.2, 9406.31, 8727.656666666666, 9351.73, 8941.653333333334, 9105.926666666666, 8999.493333333334, 9392.076666666666, 8972.863333333333, 8817.413333333334, 9312.93, 9393.036666666667, 9832.453333333333, 8792.323333333334, 9975.446666666667, 9583.27, 8808.26, 8742.22, 8812.61, 9695.22, 9615.336666666666, 9448.91, 9483.986666666666, 9493.863333333333, 9357.62, 9052.603333333333, 9220.103333333333, 9279.603333333333, 9030.04, 9037.463333333333, 9411.303333333333, 9469.626666666667, 9137.6, 9511.25, 9304.763333333334, 9785.596666666666, 9057.776666666667, 9299.253333333334, 9216.106666666667, 9600.753333333334, 9498.086666666666, 9585.87, 8901.58, 9018.81, 9174.17, 9295.696666666667, 8744.226666666667, 9406.46, 9661.38, 9271.236666666666, 10089.796666666667, 9227.643333333333, 9260.8, 8959.516666666666, 8945.13, 9115.383333333333, 9322.62, 9027.473333333333, 9310.67, 9301.953333333333, 9227.973333333333, 8770.343333333334, 8971.603333333333, 9104.75, 8733.09, 9083.926666666666, 9236.89, 8845.873333333333, 9842.643333333333, 9322.753333333334, 9697.506666666666, 9188.626666666667, 9823.106666666667, 9228.496666666666, 8948.446666666667, 9075.25, 9030.62, 9118.423333333334, 8981.54, 9123.543333333333, 9313.32, 9731.653333333334, 9191.196666666667, 9088.33, 8902.333333333334, 9542.52, 9443.233333333334, 8982.063333333334, 9265.816666666668, 9508.806666666667, 9268.36, 9320.19, 9545.286666666667, 9501.143333333333, 8996.676666666666, 9448.9, 9345.466666666667, 9003.796666666667, 8950.386666666667, 9168.74, 8936.653333333334, 8969.12, 9164.85, 9461.073333333334, 9669.703333333333, 8941.286666666667, 9001.136666666667, 9337.743333333334, 9477.813333333334, 9118.41, 9047.496666666666, 8981.393333333333, 9348.67, 9232.37, 9181.693333333333, 9460.113333333333, 10048.756666666666, 9302.193333333333, 9050.5, 9014.86, 9390.23, 9062.573333333334, 9163.556666666667, 9271.766666666666, 9743.89, 9275.756666666666, 9649.643333333333, 9926.433333333332, 9541.606666666667, 8828.1, 9562.226666666667, 9295.036666666667, 9147.223333333333, 8943.393333333333, 9148.75, 8851.39, 9204.293333333333, 9095.81, 9401.713333333333, 9577.22, 9900.89, 9257.053333333333, 9280.57, 8666.753333333334, 9107.366666666667, 8952.636666666667, 9377.876666666667, 9447.54, 8951.213333333333, 9089.546666666667, 8885.28, 9628.373333333333, 9054.916666666666, 9271.343333333334, 8640.83, 9494.856666666667, 9000.673333333334, 9064.89, 9360.72, 9460.206666666667, 9172.116666666667, 9510.05, 9026.533333333333, 9213.066666666668, 9150.383333333333, 9343.886666666667, 9551.033333333333, 9601.5, 8702.806666666667, 9082.316666666668, 8938.08, 8960.95, 9309.363333333333, 9505.41, 8935.18, 8837.023333333333, 9345.383333333333, 8748.803333333333, 9486.786666666667, 9477.373333333333, 9657.053333333333, 9718.06, 9436.43, 9498.116666666667, 9036.693333333333, 9735.74, 9306.096666666666, 9090.246666666666, 9486.986666666666, 9562.26, 9299.24, 9213.283333333333, 9424.703333333333, 8861.456666666667, 9534.57, 9693.563333333334, 9280.716666666667, 9415.83, 9048.966666666667, 9587.62, 9267.67, 8893.773333333333, 9496.99, 9236.196666666667, 10003.016666666666, 9369.756666666666, 9095.57, 9574.453333333333, 9358.38, 9080.993333333334, 9117.723333333333, 9645.02, 8891.316666666668, 9417.496666666666, 9737.166666666666, 9481.733333333334, 9347.656666666666, 9304.596666666666, 9054.806666666667, 8559.766666666666, 9014.7, 9515.796666666667, 9242.416666666666, 8789.336666666666, 9196.803333333333, 9433.383333333333, 9736.49, 8728.163333333334, 9147.546666666667, 9141.266666666666, 8579.563333333334, 9312.94, 9084.19, 9182.69, 9374.346666666666, 9593.006666666666, 9351.283333333333, 9495.41, 9539.676666666666, 9398.903333333334, 8849.613333333333, 9600.383333333333, 9570.823333333334, 9185.173333333334, 9332.466666666667, 9243.78, 9860.406666666666, 9022.79, 9283.39, 9404.686666666666, 9564.82, 9172.12, 9543.276666666667, 9624.516666666666, 9094.13, 9463.753333333334, 9220.006666666666, 8938.956666666667, 9575.34, 9637.116666666667, 9456.703333333333, 9045.04, 9269.693333333333, 9122.923333333334, 9341.526666666667, 8848.436666666666, 9311.526666666667, 9183.86, 9613.96, 9660.09, 8811.35, 9484.856666666667, 9080.01, 9150.64, 9122.683333333332, 8466.023333333333, 9225.75, 9545.74, 9446.933333333332, 9234.643333333333, 9441.946666666667, 9414.106666666667, 9610.27, 9877.83, 9152.206666666667, 10009.376666666667, 9228.906666666666, 9109.403333333334, 9663.036666666667, 9460.87, 9086.076666666666, 9260.533333333333, 8701.213333333333, 9130.023333333333, 9127.46, 9049.243333333334, 8954.11, 9048.866666666667, 9090.743333333334, 9266.623333333333, 8904.013333333334, 9758.033333333333, 8876.043333333333, 9246.366666666667, 9074.06, 9344.523333333333, 9307.136666666667, 9484.773333333333, 9640.29, 9043.613333333333, 9354.396666666667, 9511.013333333334, 9134.786666666667, 9165.683333333332, 9329.876666666667, 9033.15, 9418.193333333333, 9793.976666666667, 9494.343333333334, 9079.603333333333, 9329.68, 9228.36, 9414.176666666666, 9041.406666666666, 9227.423333333334, 9302.623333333333, 8748.89, 9753.653333333334, 9399.6, 9346.82, 9350.48, 9603.486666666666, 9358.42, 9447.08, 9055.663333333334, 9262.433333333332, 9561.603333333333, 9036.416666666666, 8777.06, 9084.476666666667, 9463.29, 9093.886666666667, 9191.573333333334, 9189.003333333334, 9515.533333333333, 9591.723333333333, 8841.39, 8984.613333333333, 8900.903333333334, 9537.613333333333, 9279.74, 9192.873333333333, 9672.21, 9572.913333333334, 9132.103333333333, 9637.553333333333, 9020.143333333333, 8828.996666666666, 9543.45, 9375.8, 9669.12, 9155.836666666666, 9434.143333333333, 9298.37, 8727.32, 9157.613333333333]\n"
          ]
        }
      ]
    },
    {
      "cell_type": "code",
      "source": [
        "print(unmarried_sample_data)"
      ],
      "metadata": {
        "colab": {
          "base_uri": "https://localhost:8080/"
        },
        "id": "b908LEce_xaQ",
        "outputId": "84862a03-83f5-4a86-ed43-e7795bc7fdc7"
      },
      "execution_count": 32,
      "outputs": [
        {
          "output_type": "stream",
          "name": "stdout",
          "text": [
            "[9146.29, 8972.726666666667, 9403.576666666666, 9166.12, 9345.293333333333, 9075.763333333334, 9244.346666666666, 9447.096666666666, 9006.973333333333, 9185.63, 9150.203333333333, 9520.843333333334, 9040.5, 8853.723333333333, 9303.506666666666, 9080.32, 9134.563333333334, 8705.536666666667, 9445.04, 9563.343333333334, 9009.92, 9416.38, 9432.99, 9705.363333333333, 8905.53, 9644.48, 8839.75, 9113.553333333333, 9233.69, 9237.9, 9485.68, 8836.94, 9140.34, 9833.626666666667, 9211.346666666666, 9677.696666666667, 8845.193333333333, 8838.37, 8989.843333333334, 9422.806666666667, 9243.98, 8738.183333333332, 9406.283333333333, 9763.596666666666, 9265.456666666667, 9781.543333333333, 9403.356666666667, 9441.713333333333, 9042.123333333333, 9074.873333333333, 9316.0, 9575.233333333334, 9487.57, 9426.35, 9177.073333333334, 9335.386666666667, 9585.056666666667, 9624.626666666667, 9063.39, 9204.8, 8997.94, 9171.046666666667, 8685.79, 9094.373333333333, 8902.8, 9744.346666666666, 8960.82, 8826.653333333334, 9147.743333333334, 9435.776666666667, 9106.02, 8572.686666666666, 9196.6, 9793.31, 9247.47, 8874.276666666667, 9222.293333333333, 9150.96, 9107.703333333333, 9095.043333333333, 8965.493333333334, 8979.78, 9340.56, 9037.283333333333, 9278.046666666667, 9454.56, 9119.206666666667, 9269.45, 9356.513333333334, 8910.886666666667, 9806.0, 8723.83, 8966.256666666666, 9196.746666666666, 9202.49, 9296.766666666666, 8836.133333333333, 9977.196666666667, 9487.34, 8569.763333333334, 9230.37, 9285.72, 8470.493333333334, 9514.23, 9039.783333333333, 9156.18, 9488.026666666667, 9349.216666666667, 8937.323333333334, 9247.243333333334, 8948.303333333333, 9268.243333333334, 9233.463333333333, 9602.346666666666, 9157.143333333333, 9348.546666666667, 8910.0, 9570.43, 9606.293333333333, 9400.053333333333, 9286.93, 9219.576666666666, 9377.313333333334, 8842.183333333332, 8768.956666666667, 9021.843333333334, 8917.2, 8932.216666666667, 9086.803333333333, 9396.826666666666, 9328.74, 9024.066666666668, 9319.32, 9054.176666666666, 8648.383333333333, 9406.94, 9095.09, 9299.2, 9377.266666666666, 9449.796666666667, 9343.12, 8856.843333333334, 9241.203333333333, 9125.383333333333, 9816.146666666667, 9427.113333333333, 9058.423333333334, 9032.186666666666, 9348.36, 9217.316666666668, 9232.943333333333, 8419.366666666667, 9288.283333333333, 9655.57, 9231.236666666666, 9077.643333333333, 9625.536666666667, 9366.623333333333, 9491.513333333334, 9196.863333333333, 8746.03, 9330.25, 9376.233333333334, 9498.053333333333, 8972.13, 9349.04, 9418.506666666666, 9346.643333333333, 8880.48, 8991.906666666666, 9399.953333333333, 8676.896666666667, 9390.613333333333, 9306.826666666666, 9379.286666666667, 9080.853333333333, 9134.786666666667, 9617.9, 9025.53, 9172.82, 9272.343333333334, 9256.893333333333, 8770.203333333333, 9181.993333333334, 9445.64, 9213.613333333333, 9167.52, 9285.413333333334, 9347.686666666666, 9058.95, 9425.866666666667, 9314.146666666667, 9705.683333333332, 9672.183333333332, 9670.676666666666, 9064.176666666666, 9056.036666666667, 8802.526666666667, 9066.22, 9237.836666666666, 9416.993333333334, 9202.026666666667, 8722.386666666667, 9059.863333333333, 9063.446666666667, 9688.53, 9051.35, 9496.323333333334, 9446.14, 9678.626666666667, 8713.28, 9274.616666666667, 8939.873333333333, 9449.983333333334, 9058.58, 9069.913333333334, 9800.726666666667, 9158.86, 8560.66, 9710.22, 9052.823333333334, 9063.99, 9791.193333333333, 9309.51, 9602.896666666667, 9419.196666666667, 9168.716666666667, 9557.87, 9478.016666666666, 9114.26, 9189.163333333334, 9050.67, 9519.176666666666, 9172.876666666667, 9134.013333333334, 9152.146666666667, 9045.793333333333, 9141.956666666667, 9096.033333333333, 8744.346666666666, 9140.273333333333, 9107.69, 9228.843333333334, 9437.31, 9552.05, 9387.656666666666, 9465.116666666667, 9032.816666666668, 9018.57, 9607.433333333332, 9505.263333333334, 8768.1, 9500.193333333333, 8776.17, 9613.303333333333, 9209.336666666666, 9295.57, 9068.436666666666, 8766.316666666668, 9792.796666666667, 9138.85, 9450.983333333334, 9588.576666666666, 9608.676666666666, 8910.2, 9361.146666666667, 9321.93, 9111.156666666666, 9330.226666666667, 8955.006666666666, 9308.12, 9243.193333333333, 9054.31, 8803.466666666667, 9142.72, 9275.546666666667, 9000.613333333333, 9162.703333333333, 9131.35, 9283.6, 9192.443333333333, 8693.866666666667, 9644.253333333334, 9194.8, 9322.026666666667, 9630.046666666667, 9585.07, 9173.12, 9142.11, 9060.476666666667, 9201.266666666666, 9497.333333333334, 9341.653333333334, 9569.8, 8949.35, 9594.826666666666, 9350.31, 9270.816666666668, 8892.766666666666, 9424.003333333334, 9172.56, 8998.383333333333, 9341.256666666666, 9541.17, 9528.093333333334, 9153.7, 9123.553333333333, 9704.286666666667, 9146.763333333334, 9019.19, 9680.876666666667, 9374.01, 9012.796666666667, 8946.406666666666, 9281.256666666666, 9483.086666666666, 9005.33, 9001.073333333334, 9105.206666666667, 9419.44, 9502.746666666666, 8901.463333333333, 8777.566666666668, 9234.306666666667, 9169.73, 9361.633333333333, 9380.703333333333, 8997.276666666667, 8921.516666666666, 9513.776666666667, 8820.99, 9498.443333333333, 9765.963333333333, 9591.6, 9589.406666666666, 9402.506666666666, 9216.476666666667, 8887.02, 9271.06, 9501.313333333334, 9155.9, 9610.856666666667, 8753.98, 8640.956666666667, 9185.42, 9139.743333333334, 9373.843333333334, 9383.51, 9155.37, 9224.54, 8784.586666666666, 8925.72, 9175.746666666666, 9106.993333333334, 8983.256666666666, 8998.416666666666, 9170.916666666666, 8978.86, 9153.973333333333, 9370.6, 9311.783333333333, 9597.453333333333, 9395.97, 9136.48, 10094.083333333334, 8864.166666666666, 9306.266666666666, 9078.023333333333, 9358.483333333334, 9252.923333333334, 9878.456666666667, 9229.34, 9476.67, 9361.04, 9318.076666666666, 9702.453333333333, 9085.283333333333, 9567.16, 9705.256666666666, 9701.906666666666, 9170.723333333333, 9427.99, 9240.683333333332, 9804.123333333333, 9395.82, 8947.573333333334, 9106.38, 9310.056666666667, 9300.343333333334, 9460.066666666668, 9449.78, 9930.806666666667, 9302.463333333333, 8929.91, 8985.983333333334, 9619.656666666666, 9225.856666666667, 9094.276666666667, 9670.37, 9409.183333333332, 9002.883333333333, 9280.076666666666, 9599.096666666666, 9340.713333333333, 8922.79, 9261.256666666666, 9447.523333333333, 8637.083333333334, 8975.96, 8734.996666666666, 9670.583333333334, 9090.466666666667, 9399.586666666666, 8932.163333333334, 9893.476666666667, 9108.57, 8857.596666666666, 9422.986666666666, 8825.166666666666, 9332.896666666667, 8918.83, 9480.386666666667, 9202.04, 8676.196666666667, 9256.593333333334, 9376.443333333333, 9424.333333333334, 9465.196666666667, 9343.466666666667, 9047.556666666667, 8776.296666666667, 9233.136666666667, 9062.72, 9617.316666666668, 9322.256666666666, 8756.503333333334, 9269.796666666667, 9198.353333333333, 9479.763333333334, 9932.0, 9542.266666666666, 8751.376666666667, 9151.15, 8891.62, 10000.546666666667, 9420.783333333333, 9121.26, 9303.573333333334, 9830.643333333333, 9309.726666666667, 8940.456666666667, 9079.606666666667, 9385.046666666667, 9067.713333333333, 8988.73, 9785.763333333334, 9473.046666666667, 9486.54, 8936.076666666666, 8593.966666666667, 9425.936666666666, 9648.326666666666, 9446.866666666667, 9678.786666666667, 9717.193333333333, 9545.12, 9457.133333333333, 8885.913333333334, 9137.84, 8727.136666666667, 9193.97, 9401.16, 9060.676666666666, 9166.973333333333, 9347.08, 8974.413333333334, 9176.226666666667, 9173.613333333333, 9247.556666666667, 9367.71, 8929.516666666666, 9063.753333333334, 9758.28, 9184.7, 9185.643333333333, 9167.803333333333, 9687.913333333334, 8851.773333333333, 8889.233333333334, 9284.963333333333, 9100.826666666666, 8998.206666666667, 8707.006666666666, 9515.46, 9102.15, 9251.426666666666, 9240.916666666666, 9174.79, 8856.546666666667, 9613.766666666666, 9027.276666666667, 9099.623333333333, 9202.65, 9186.31, 9181.693333333333, 9489.53, 9847.716666666667, 9516.863333333333, 8822.363333333333, 9350.753333333334, 8874.013333333334, 9657.296666666667, 9058.196666666667, 9179.566666666668, 9324.976666666667, 9582.0, 9097.333333333334, 9352.666666666666, 9334.183333333332, 9696.626666666667, 9571.71, 8844.643333333333, 8658.723333333333, 9517.566666666668, 9063.943333333333, 9493.84, 9349.96, 9516.376666666667, 9156.516666666666, 9481.32, 9358.116666666667, 9023.56, 9550.856666666667, 8999.163333333334, 9683.26, 8999.526666666667, 8979.696666666667, 8998.653333333334, 9014.956666666667, 9571.266666666666, 9383.81, 9298.376666666667, 9358.79, 9508.976666666667, 8981.99, 9278.333333333334, 9105.206666666667, 9624.586666666666, 9710.133333333333, 9156.58, 9481.45, 9725.5, 9016.023333333333, 9769.86, 9137.943333333333, 9202.163333333334, 9429.673333333334, 9173.443333333333, 9345.886666666667, 9621.796666666667, 9938.53, 9293.486666666666, 9261.393333333333, 9565.61, 8907.976666666667, 8981.07, 9410.713333333333, 9448.163333333334, 9203.316666666668, 9192.463333333333, 9129.773333333333, 9416.986666666666, 9915.27, 8833.953333333333, 9382.486666666666, 9672.56, 9410.083333333334, 8977.17, 8980.67, 9089.146666666667, 8493.306666666667, 9257.743333333334, 8890.886666666667, 9355.483333333334, 9211.666666666666, 9266.153333333334, 9329.09, 9456.446666666667, 9125.573333333334, 9271.36, 9220.143333333333, 10083.766666666666, 9247.856666666667, 9110.753333333334, 9157.586666666666, 9232.996666666666, 9244.303333333333, 9497.143333333333, 8811.87, 8988.776666666667, 9264.506666666666, 9212.736666666666, 9227.053333333333, 9356.63, 9040.75, 9359.81, 8925.293333333333, 9528.796666666667, 9574.986666666666, 9053.69, 8637.503333333334, 9141.58, 9569.5, 9368.67, 9670.736666666666, 8969.053333333333, 9309.45, 9061.37, 9297.146666666667, 9401.046666666667, 9808.826666666666, 8883.26, 9748.996666666666, 8782.076666666666, 9534.51, 9529.03, 8675.323333333334, 9081.59, 9176.353333333333, 9044.186666666666, 9320.41, 9237.856666666667, 9955.51, 9451.276666666667, 9187.16, 9742.22, 9012.803333333333, 8698.28, 9194.743333333334, 8999.71, 9317.396666666667, 9375.5, 9336.366666666667, 9516.866666666667, 9467.456666666667, 8828.613333333333, 9266.736666666666, 9145.576666666666, 9003.376666666667, 9359.01, 9647.0, 9056.893333333333, 9037.013333333334, 9358.936666666666, 8592.826666666666, 9103.2, 9060.793333333333, 10100.016666666666, 9069.396666666667, 9026.203333333333, 8989.46, 8876.736666666666, 8773.65, 9262.106666666667, 9410.846666666666, 9271.273333333333, 9265.843333333334, 9992.536666666667, 8719.983333333334, 9139.65, 9304.23, 9166.95, 9046.923333333334, 9573.47, 9250.833333333334, 8989.866666666667, 9449.66, 9298.516666666666, 8801.053333333333, 9790.41, 9167.553333333333, 8960.893333333333, 8881.393333333333, 9758.016666666666, 9629.97, 9139.9, 8909.72, 9014.3, 9397.833333333334, 9336.27, 9024.79, 9341.933333333332, 9482.886666666667, 9105.97, 9493.683333333332, 9543.38, 9097.93, 9622.67, 9249.01, 8993.253333333334, 9113.586666666666, 9995.193333333333, 9347.813333333334, 9065.876666666667, 8878.146666666667, 9509.723333333333, 9002.53, 8981.94, 9421.0, 9311.25, 9247.67, 8971.27, 9362.06, 9100.093333333334, 9331.306666666667, 9289.183333333332, 9154.706666666667, 9373.963333333333, 9395.516666666666, 8992.82, 8986.33, 9247.563333333334, 8885.143333333333, 9181.823333333334, 9340.62, 9265.916666666666, 9045.856666666667, 9312.743333333334, 9082.23, 9060.643333333333, 9137.056666666667, 9173.776666666667, 8910.373333333333, 9400.333333333334, 8939.14, 8600.026666666667, 9537.42, 9124.883333333333, 9730.456666666667, 8964.676666666666, 9188.953333333333, 9268.58, 9033.493333333334, 8985.97, 9132.963333333333, 9611.383333333333, 9299.67, 9611.833333333334, 9474.123333333333, 9609.656666666666, 9313.683333333332, 9222.65, 9105.193333333333, 9283.513333333334, 9037.596666666666, 9133.493333333334, 9266.4, 9323.63, 9236.713333333333, 8923.87, 9686.09, 9545.71, 9035.0, 9390.62, 9117.0, 9850.943333333333, 9262.52, 9062.666666666666, 9110.016666666666, 9370.7, 9512.666666666666, 8860.523333333333, 9286.353333333333, 9461.476666666667, 9285.376666666667, 9250.49, 9686.276666666667, 9291.946666666667, 9567.17, 9255.816666666668, 8939.523333333333, 9546.256666666666, 9357.713333333333, 9095.493333333334, 9147.876666666667, 8821.416666666666, 9052.673333333334, 8973.206666666667, 9521.773333333333, 9345.906666666666, 9579.036666666667, 9590.046666666667, 9332.05, 8898.18, 9369.126666666667, 9094.586666666666, 9132.32, 9237.59, 9243.703333333333, 9649.27, 9520.306666666667, 9286.123333333333, 9305.033333333333, 8897.136666666667, 9438.39, 9411.49, 9827.486666666666, 9985.036666666667, 8782.596666666666, 9595.406666666666, 9075.603333333333, 8822.533333333333, 9277.78, 9524.096666666666, 9770.013333333334, 9063.573333333334, 9721.846666666666, 9226.04, 9433.016666666666, 9393.056666666667, 9015.246666666666, 9346.62, 9674.043333333333, 9212.85, 9624.076666666666, 9641.93, 9532.003333333334, 9478.066666666668, 9510.476666666667, 9242.786666666667, 8603.933333333332, 8997.796666666667, 9347.97, 9037.196666666667, 9299.91, 9451.616666666667, 9219.556666666667, 9471.346666666666, 9581.423333333334, 9514.253333333334, 9028.003333333334, 8777.283333333333, 9019.633333333333, 9097.233333333334, 9602.07, 9327.13, 9411.25, 9306.896666666667, 9307.51, 9159.823333333334, 8905.716666666667, 8792.123333333333, 9539.986666666666, 8877.61, 9582.22, 9347.476666666667, 9162.58, 8726.356666666667, 9299.78, 9666.306666666667, 9220.67, 9491.87, 9613.02, 8881.79, 8669.453333333333, 9484.636666666667, 9105.96, 9042.353333333333, 8855.443333333333, 9095.956666666667, 9183.84, 9376.97, 9712.476666666667, 9660.63, 9397.61, 9739.203333333333, 9221.38, 9246.96, 9114.69, 9189.07, 8803.106666666667, 9594.723333333333, 9264.716666666667, 9195.73, 9121.32, 9151.473333333333, 9337.61, 9331.77, 9578.753333333334, 9706.646666666667, 9530.31, 9139.8, 9446.083333333334, 9637.23, 8921.036666666667, 9387.983333333334, 9239.236666666666, 8962.066666666668, 9180.41, 9265.003333333334, 9614.426666666666, 9286.463333333333, 8968.296666666667, 9127.46, 9378.826666666666, 9337.09, 9269.073333333334, 9586.353333333333, 9759.026666666667, 8579.97, 9873.74, 10121.466666666667, 9231.856666666667, 9339.966666666667, 9403.8, 9656.78, 9324.536666666667, 9550.55, 8997.216666666667, 9302.61, 9265.723333333333, 9187.026666666667, 9064.71, 9406.216666666667, 9009.473333333333, 8960.17, 8996.7, 9216.456666666667, 9347.993333333334, 9245.456666666667, 9497.356666666667, 9135.216666666667, 9402.61, 8904.043333333333, 9658.233333333334, 9193.79, 9370.683333333332, 9458.803333333333, 9441.093333333334, 9809.32, 9428.253333333334, 8993.803333333333, 9459.343333333334, 9206.233333333334, 9624.366666666667, 8999.803333333333, 9270.21, 9321.736666666666, 8798.723333333333, 9003.96, 9473.933333333332, 9298.023333333333, 9129.856666666667, 9966.7, 9016.956666666667, 9209.03, 9405.206666666667, 9004.356666666667, 9567.84, 9399.276666666667, 8872.253333333334, 9449.07, 9568.643333333333, 9140.213333333333, 9422.796666666667, 8921.81, 9561.083333333334, 8726.803333333333, 9667.35, 9429.576666666666, 8964.263333333334, 8804.016666666666, 8899.876666666667, 9531.916666666666, 9458.973333333333, 9122.113333333333, 9321.01, 9719.893333333333, 9571.143333333333, 9468.86, 8799.4, 8793.873333333333, 9027.986666666666, 9377.34, 9380.79, 9489.163333333334, 9017.403333333334, 8672.54, 9677.05, 9752.523333333333, 8800.566666666668, 8986.366666666667, 9674.873333333333, 9344.76, 9356.096666666666, 9355.53, 9377.423333333334, 9551.866666666667, 9480.533333333333, 9272.32]\n"
          ]
        }
      ]
    },
    {
      "cell_type": "code",
      "source": [
        "np.mean(married_sample_data)"
      ],
      "metadata": {
        "colab": {
          "base_uri": "https://localhost:8080/"
        },
        "id": "leqkQXj6_15R",
        "outputId": "62602f99-bc4f-4d68-f525-411db6a3c6a7"
      },
      "execution_count": 33,
      "outputs": [
        {
          "output_type": "execute_result",
          "data": {
            "text/plain": [
              "9249.789516666666"
            ]
          },
          "metadata": {},
          "execution_count": 33
        }
      ]
    },
    {
      "cell_type": "code",
      "source": [
        "np.mean(unmarried_sample_data)"
      ],
      "metadata": {
        "colab": {
          "base_uri": "https://localhost:8080/"
        },
        "id": "-pRXneZq_46-",
        "outputId": "405c39f1-198c-4dcd-ba81-0a2232c1bc26"
      },
      "execution_count": 34,
      "outputs": [
        {
          "output_type": "execute_result",
          "data": {
            "text/plain": [
              "9254.843939999999"
            ]
          },
          "metadata": {},
          "execution_count": 34
        }
      ]
    },
    {
      "cell_type": "code",
      "source": [
        "sns.histplot(married_sample_data)"
      ],
      "metadata": {
        "colab": {
          "base_uri": "https://localhost:8080/",
          "height": 447
        },
        "id": "OZUko2lyBt0d",
        "outputId": "88ad1047-2da6-4ca9-845c-93e7d6f919d6"
      },
      "execution_count": 35,
      "outputs": [
        {
          "output_type": "execute_result",
          "data": {
            "text/plain": [
              "<Axes: ylabel='Count'>"
            ]
          },
          "metadata": {},
          "execution_count": 35
        },
        {
          "output_type": "display_data",
          "data": {
            "text/plain": [
              "<Figure size 640x480 with 1 Axes>"
            ],
            "image/png": "[encoded data removed]"
          },
          "metadata": {}
        }
      ]
    },
    {
      "cell_type": "code",
      "source": [
        "sns.histplot(unmarried_sample_data)"
      ],
      "metadata": {
        "colab": {
          "base_uri": "https://localhost:8080/",
          "height": 447
        },
        "id": "Ah1iZJPOBuED",
        "outputId": "29a6f569-b52f-4a19-82f3-ec08716fd51d"
      },
      "execution_count": 36,
      "outputs": [
        {
          "output_type": "execute_result",
          "data": {
            "text/plain": [
              "<Axes: ylabel='Count'>"
            ]
          },
          "metadata": {},
          "execution_count": 36
        },
        {
          "output_type": "display_data",
          "data": {
            "text/plain": [
              "<Figure size 640x480 with 1 Axes>"
            ],
            "image/png": "[encoded data removed]"
          },
          "metadata": {}
        }
      ]
    },
    {
      "cell_type": "markdown",
      "source": [
        "95% confidence interval"
      ],
      "metadata": {
        "id": "tZYzF9fP_-Yp"
      }
    },
    {
      "cell_type": "code",
      "source": [
        "married_confidence_interval95=np.percentile(married_sample_data,[2.5,97.5])\n",
        "unmarried_confidence_interval95=np.percentile(unmarried_sample_data,[2.5,97.5])"
      ],
      "metadata": {
        "id": "eyFuanciABGs"
      },
      "execution_count": 37,
      "outputs": []
    },
    {
      "cell_type": "code",
      "source": [
        "print('married_confidence_interval95:',married_confidence_interval95)\n",
        "print('unmarried_confidence_interval95:',unmarried_confidence_interval95)"
      ],
      "metadata": {
        "colab": {
          "base_uri": "https://localhost:8080/"
        },
        "id": "Umx7kJ9_AuY3",
        "outputId": "edeee196-7265-4753-da74-33dbfe86026f"
      },
      "execution_count": 38,
      "outputs": [
        {
          "output_type": "stream",
          "name": "stdout",
          "text": [
            "married_confidence_interval95: [8699.32441667 9883.68675   ]\n",
            "unmarried_confidence_interval95: [8706.96991667 9808.839     ]\n"
          ]
        }
      ]
    },
    {
      "cell_type": "markdown",
      "source": [
        "90% confidence interval"
      ],
      "metadata": {
        "id": "AOvB2i7nCgN7"
      }
    },
    {
      "cell_type": "code",
      "source": [
        "married_confidence_interval90=np.percentile(married_sample_data,[5,95])\n",
        "unmarried_confidence_interval90=np.percentile(unmarried_sample_data,[5,95])\n",
        "print('married_confidence_interval90:',married_confidence_interval90)\n",
        "print('unmarried_confidence_interval90:',unmarried_confidence_interval90)"
      ],
      "metadata": {
        "colab": {
          "base_uri": "https://localhost:8080/"
        },
        "id": "2smvMQetCdsi",
        "outputId": "68ca18df-a69d-45cf-f6f8-2f8bae765729"
      },
      "execution_count": 39,
      "outputs": [
        {
          "output_type": "stream",
          "name": "stdout",
          "text": [
            "married_confidence_interval90: [8792.174      9741.79683333]\n",
            "unmarried_confidence_interval90: [8782.57066667 9719.991     ]\n"
          ]
        }
      ]
    },
    {
      "cell_type": "markdown",
      "source": [
        "99% confidence interval"
      ],
      "metadata": {
        "id": "MJtyZHgACg4G"
      }
    },
    {
      "cell_type": "code",
      "source": [
        "married_confidence_interval99=np.percentile(married_sample_data,[0.5,99.5])\n",
        "unmarried_confidence_interval99=np.percentile(unmarried_sample_data,[0.5,99.5])\n",
        "print('married_confidence_interval99:',married_confidence_interval99)\n",
        "print('unmarried_confidence_interval99:',unmarried_confidence_interval99)"
      ],
      "metadata": {
        "colab": {
          "base_uri": "https://localhost:8080/"
        },
        "id": "UvRkRPDpCeLg",
        "outputId": "11f4c7ae-5516-4321-fa54-22b09e00e7c6"
      },
      "execution_count": 40,
      "outputs": [
        {
          "output_type": "stream",
          "name": "stdout",
          "text": [
            "married_confidence_interval99: [ 8478.3746     10062.97133333]\n",
            "unmarried_confidence_interval99: [8572.67205 9995.2201 ]\n"
          ]
        }
      ]
    },
    {
      "cell_type": "markdown",
      "source": [
        "Sample size 500"
      ],
      "metadata": {
        "id": "AlQXZXQKCe8X"
      }
    },
    {
      "cell_type": "code",
      "source": [
        "sample_size=500\n",
        "married_sample_data_1=[df[df['Marital_Status']==1].sample(sample_size,replace=True)['Purchase'].mean() for i in range(1000)]\n",
        "unmarried_sample_data_1=[df[df['Marital_Status']==0].sample(sample_size,replace=True)['Purchase'].mean() for i in range(1000)]"
      ],
      "metadata": {
        "id": "9zon38IwDi6y"
      },
      "execution_count": 41,
      "outputs": []
    },
    {
      "cell_type": "code",
      "source": [
        "print(married_sample_data_1)"
      ],
      "metadata": {
        "colab": {
          "base_uri": "https://localhost:8080/"
        },
        "id": "ZeT6b5DwDns8",
        "outputId": "63bd6b8b-069c-416f-8b61-39d64d0bd5ae"
      },
      "execution_count": 42,
      "outputs": [
        {
          "output_type": "stream",
          "name": "stdout",
          "text": [
            "[9009.136, 9252.092, 9563.062, 9440.516, 9220.252, 9333.252, 9671.25, 9085.408, 9497.366, 9406.534, 9035.318, 9054.244, 9185.276, 8435.768, 9388.246, 9290.004, 9235.626, 9320.694, 9181.608, 9066.156, 9562.678, 9366.794, 9157.014, 9350.102, 9290.876, 9152.6, 9485.854, 9283.078, 9477.532, 9161.766, 8681.672, 9189.788, 9091.114, 9323.84, 9106.912, 9597.358, 9128.854, 9558.38, 9288.81, 8318.158, 9183.386, 9055.476, 8962.226, 9197.262, 9199.056, 9328.044, 9070.854, 9058.644, 9782.986, 9367.062, 9158.22, 9424.986, 9329.05, 9182.11, 8926.982, 9336.592, 9332.856, 9859.746, 9508.038, 8941.06, 9169.212, 9132.546, 9530.754, 9296.358, 9174.07, 8969.376, 9330.906, 9309.392, 9055.898, 9267.338, 9576.636, 9537.444, 9321.166, 9280.78, 8961.642, 9631.018, 9035.464, 9458.858, 9714.25, 9171.58, 9568.216, 9170.926, 8931.978, 9510.118, 9481.778, 9111.844, 9282.548, 8774.198, 9380.1, 9085.162, 9248.36, 9135.992, 9042.522, 9216.176, 9777.43, 9235.968, 9571.552, 9021.94, 9388.058, 9128.35, 9077.65, 9061.378, 9371.528, 9182.172, 9183.006, 9344.46, 9406.68, 9429.404, 8974.768, 9385.014, 9278.894, 9104.916, 9128.372, 9323.398, 9284.13, 9397.964, 9015.532, 9153.97, 9407.15, 9203.36, 9260.526, 9223.014, 9246.224, 9108.886, 9286.692, 9439.028, 9379.516, 9555.682, 9527.114, 9076.422, 9258.56, 9370.248, 9533.136, 9276.0, 8952.508, 9175.774, 8800.966, 9035.688, 8957.726, 9427.272, 9450.662, 9518.602, 9125.646, 9439.052, 9376.09, 8945.908, 9233.17, 9006.286, 9111.76, 9120.426, 9030.616, 9415.324, 9512.804, 9223.386, 9400.13, 9359.15, 9203.358, 9370.486, 8925.584, 9169.964, 9220.082, 8989.268, 9407.448, 9466.186, 9067.362, 9001.416, 9471.574, 9258.328, 9516.16, 9392.696, 9187.22, 8642.984, 9224.04, 9248.868, 9028.11, 8928.376, 9422.466, 9062.95, 9374.35, 9121.84, 9374.85, 9157.306, 9448.928, 9650.17, 9455.952, 9391.482, 9213.234, 9287.046, 9279.978, 9100.326, 9711.126, 9063.264, 9069.55, 9200.98, 9479.162, 9565.628, 9002.65, 9131.128, 9280.25, 9106.324, 9061.192, 9438.364, 9011.07, 9225.836, 9217.708, 9203.746, 9137.804, 8866.718, 8611.496, 9015.786, 9232.11, 9592.492, 9006.51, 9095.068, 9703.38, 9086.064, 9503.664, 8923.5, 9015.6, 9079.906, 9557.002, 9049.414, 9089.524, 9293.294, 9208.96, 8992.634, 9145.93, 9115.836, 9442.14, 9344.442, 9731.33, 9330.574, 9315.916, 9531.5, 9184.208, 9402.794, 9327.202, 9507.024, 9653.328, 9043.236, 9619.824, 9658.966, 9332.418, 9245.424, 9251.734, 8883.736, 9172.804, 9185.324, 8872.41, 9010.396, 9758.404, 9398.902, 9315.296, 9373.96, 9538.674, 9253.84, 9228.188, 9193.404, 9088.09, 9341.944, 9190.216, 9191.37, 8985.088, 9350.47, 9133.826, 9859.766, 9164.71, 9476.796, 9242.642, 9139.508, 9399.968, 9375.19, 9382.456, 9012.236, 9716.684, 9352.902, 9543.476, 9393.408, 8642.444, 9280.266, 9326.04, 9718.084, 9562.238, 9123.896, 9545.004, 9258.164, 9434.736, 9354.154, 8792.976, 9299.442, 9422.124, 9599.794, 9305.516, 9264.452, 9189.948, 9470.768, 9672.858, 9227.154, 9125.738, 9499.026, 9554.962, 8997.962, 8995.892, 9475.804, 9187.364, 9170.492, 8932.208, 9817.28, 8742.972, 9383.99, 9162.61, 9632.348, 8781.384, 8868.272, 9382.574, 9350.774, 9316.826, 9846.472, 9560.05, 9359.022, 9030.31, 9186.582, 8941.182, 9323.394, 9046.978, 9220.37, 9269.51, 9387.68, 9802.224, 9209.864, 9093.722, 9200.674, 9742.43, 9962.72, 9364.936, 9187.368, 9147.144, 9607.138, 9413.058, 9000.266, 9244.9, 9412.922, 9422.72, 9198.92, 8991.746, 9529.178, 9288.808, 9171.678, 9476.384, 8907.052, 9237.47, 9449.816, 9066.676, 9249.264, 9579.546, 9294.278, 9259.744, 9180.188, 9667.416, 9326.042, 9296.48, 9238.388, 9333.456, 9565.624, 9049.274, 9305.182, 9327.684, 9093.226, 9494.578, 9116.698, 9410.52, 9008.36, 8872.396, 9336.214, 9220.46, 9049.704, 9278.086, 9233.648, 9101.796, 8883.816, 9506.95, 9386.32, 9386.466, 9229.552, 9449.132, 9118.682, 9561.168, 9076.252, 8849.584, 8944.302, 9242.746, 9686.432, 8798.314, 9371.896, 9218.454, 8828.318, 9549.09, 9211.276, 9054.768, 8949.798, 9499.366, 9731.458, 9635.848, 9296.478, 9556.74, 9056.03, 9131.556, 9080.552, 9081.66, 9328.562, 9180.48, 8982.418, 9572.384, 9406.004, 9374.542, 9288.72, 9276.706, 9169.708, 9307.814, 9000.988, 9332.266, 9481.562, 9538.89, 9693.626, 9284.478, 8956.21, 9806.8, 9405.39, 9667.726, 9049.616, 8949.67, 9368.654, 9113.71, 9283.872, 8941.59, 9335.432, 8986.4, 9327.062, 9068.958, 9299.932, 9327.008, 8903.362, 9315.352, 9506.69, 8941.33, 9390.064, 9714.22, 9360.614, 9188.47, 9194.226, 9032.428, 9365.522, 9344.184, 9168.784, 9301.16, 9263.544, 9148.464, 9219.298, 9365.47, 9514.392, 9364.816, 9349.184, 9302.564, 8880.39, 9622.02, 9347.114, 9583.766, 9215.102, 9304.092, 9631.398, 9284.314, 9053.916, 9173.116, 9180.914, 9536.476, 9167.794, 9254.466, 9499.222, 9269.158, 9503.502, 9301.934, 9271.356, 9686.292, 8813.734, 9511.46, 9046.678, 9132.28, 9260.4, 9568.692, 9232.234, 8814.514, 9011.122, 9014.59, 9294.998, 9468.0, 9202.762, 9349.196, 9541.838, 9035.35, 9325.636, 9667.768, 9185.354, 9241.702, 9321.792, 9555.264, 9023.654, 9700.584, 9242.138, 9360.36, 9236.642, 9172.01, 9313.212, 9477.672, 9390.992, 9460.398, 9049.498, 9391.366, 9235.592, 8819.084, 9287.814, 9058.514, 9401.348, 9271.08, 9306.824, 9303.672, 9083.046, 9103.752, 9368.646, 9308.834, 8821.636, 9539.636, 9124.188, 9182.476, 8765.542, 9388.708, 8869.044, 9005.1, 9351.902, 9604.576, 9679.524, 9145.606, 9567.876, 9141.264, 9169.08, 9066.634, 9185.086, 8866.684, 9561.268, 9312.942, 9183.814, 9495.33, 9004.072, 9148.67, 9619.872, 9500.53, 9080.584, 9383.998, 9063.684, 8830.6, 9421.258, 9064.12, 9371.618, 9269.332, 9221.846, 9473.842, 9356.88, 9322.23, 9458.894, 9454.494, 8995.016, 9351.624, 9153.502, 9539.252, 9183.23, 9341.818, 9135.1, 9581.582, 9371.592, 9590.82, 9235.926, 9493.052, 9621.672, 9257.866, 9569.242, 9030.302, 9674.822, 9492.382, 9260.142, 9098.124, 9734.088, 9396.802, 9312.726, 8866.586, 9301.544, 9230.762, 9085.358, 8979.188, 8935.18, 8915.54, 9134.868, 9186.616, 9340.346, 9088.124, 9498.118, 9151.216, 9091.614, 9006.274, 9127.356, 9090.62, 9123.964, 9293.096, 9426.294, 9213.282, 9402.462, 9189.282, 9304.328, 9244.546, 9043.598, 8966.708, 9224.336, 9475.478, 9377.234, 9091.058, 9295.032, 9404.296, 9220.33, 9353.542, 9294.382, 9357.064, 9213.076, 9013.022, 9372.746, 9259.112, 9209.648, 9296.77, 9266.534, 9642.632, 9709.132, 9426.864, 9256.05, 9319.904, 9097.022, 8957.504, 9261.164, 9446.458, 8973.728, 9486.798, 9024.85, 9315.264, 9430.084, 9180.15, 9191.226, 9387.732, 9204.0, 9470.974, 9069.866, 9270.45, 9731.314, 9392.61, 9269.22, 8688.204, 9351.966, 9383.926, 9075.258, 9168.812, 9197.52, 9384.912, 9454.144, 9032.356, 8906.694, 9688.9, 9494.662, 9561.052, 9287.968, 9571.868, 9271.922, 8951.67, 9379.898, 9152.47, 9211.046, 9214.644, 9465.114, 9257.634, 9028.488, 9073.526, 9416.208, 9010.7, 9131.856, 9261.788, 9232.016, 9563.712, 9202.092, 9165.528, 9566.89, 8808.858, 9217.296, 9200.526, 9491.876, 9478.968, 9544.798, 9391.122, 9013.942, 9355.176, 9314.332, 9259.784, 9292.78, 9361.85, 9318.93, 9210.494, 8825.754, 9267.762, 8955.74, 9249.726, 9170.154, 9626.366, 9194.328, 9043.732, 9449.064, 9061.506, 9439.764, 9236.856, 9107.794, 9286.052, 9079.336, 9115.038, 9276.176, 9383.802, 9108.208, 9297.914, 9000.778, 9182.838, 9175.274, 9128.614, 9239.766, 8732.888, 9597.798, 9588.856, 9448.602, 9313.534, 9540.954, 9347.372, 9485.414, 9619.968, 8928.856, 8868.03, 9299.354, 9199.696, 9345.56, 9888.624, 9225.642, 9239.656, 8997.23, 9086.692, 9166.066, 9520.848, 9362.76, 9626.152, 9543.43, 8933.264, 9561.342, 9191.22, 9321.46, 9647.702, 9500.158, 9806.618, 9504.818, 9065.98, 9389.948, 9107.414, 9404.408, 9579.602, 9668.998, 9398.854, 8963.34, 9239.104, 9465.764, 9620.63, 9282.224, 9422.526, 9233.22, 9202.738, 9421.848, 9462.956, 9121.854, 9446.152, 9280.016, 9294.28, 9274.13, 9583.856, 9679.884, 9452.346, 8889.894, 9366.298, 9575.178, 8817.408, 9435.344, 9104.5, 9304.07, 9252.252, 9456.156, 9286.782, 9799.88, 8989.656, 9533.894, 9033.676, 9019.706, 9233.312, 9282.026, 9330.14, 9028.884, 9365.962, 9360.856, 9213.436, 9309.52, 8982.814, 9122.146, 8879.744, 9604.146, 9365.398, 9719.58, 9119.16, 8923.542, 9410.39, 9145.54, 9391.266, 9648.56, 9438.422, 9437.53, 9512.282, 9409.33, 8907.378, 9430.52, 8947.722, 9280.486, 9570.576, 8928.304, 9057.282, 9439.746, 9439.166, 9160.96, 9357.294, 9136.424, 8944.632, 9177.52, 9241.684, 9028.486, 9043.686, 9433.672, 9044.264, 9353.178, 9124.296, 9461.22, 9227.586, 9182.562, 9116.446, 9604.592, 9220.208, 9234.1, 9316.986, 9408.468, 9223.226, 8969.07, 9280.058, 8899.102, 9415.956, 9361.844, 9136.398, 9161.952, 9548.432, 9420.662, 9381.244, 8923.054, 8976.2, 9234.26, 9245.674, 9239.258, 8888.082, 9378.788, 9827.254, 9366.98, 9576.294, 9153.88, 9528.326, 9349.402, 9575.05, 9395.13, 9642.558, 9104.306, 9114.518, 9544.512, 9556.984, 9486.776, 9207.162, 9414.436, 9311.874, 9430.68, 8879.986, 9686.188, 9179.124, 9265.252, 8925.648, 9469.476, 8558.174, 9244.784, 9058.034, 9254.366, 9344.848, 9118.666, 9234.262, 8885.354, 9485.348, 9309.558, 9030.892, 9244.878, 9317.392, 9335.05, 9274.894, 9283.776, 9169.308, 9428.486, 9209.622, 9377.156, 9483.646, 9176.482, 9171.532, 9311.688, 9350.662, 9486.626, 8863.228, 9045.916, 8914.038, 9492.676, 9219.548, 9007.486, 9153.394, 9137.55, 9412.97, 9225.278, 9495.156, 9113.25, 9414.674, 9199.306, 9056.872, 9328.01, 8949.742, 9283.524, 9075.098, 9228.832, 9365.264, 9287.616, 9446.362, 9311.09, 9108.428, 9156.026, 9271.8, 9543.28, 9096.546, 9086.748, 9407.648, 8854.942, 9235.576, 9057.538, 9237.232, 9530.462, 9504.524, 9052.236, 9202.26, 9341.58, 9179.588, 9490.444, 9299.928, 9324.282, 9341.18, 8880.744, 8917.528, 9367.366, 8926.864, 9564.046, 9730.678, 9488.976, 9893.31, 8895.39, 9480.84, 9773.536, 9168.276, 9394.266, 8676.356, 9259.69, 9021.126, 9528.56, 9288.066, 9372.602, 9429.77, 9113.624, 9041.098, 9009.786, 9191.862, 9312.934, 9457.198, 9398.366]\n"
          ]
        }
      ]
    },
    {
      "cell_type": "code",
      "source": [
        "print(unmarried_sample_data_1)"
      ],
      "metadata": {
        "colab": {
          "base_uri": "https://localhost:8080/"
        },
        "id": "HPA5BWILDqmP",
        "outputId": "5f00fa10-fecd-48b2-e938-23c95d37b115"
      },
      "execution_count": 43,
      "outputs": [
        {
          "output_type": "stream",
          "name": "stdout",
          "text": [
            "[9215.764, 9226.338, 9043.104, 9492.746, 9418.648, 9251.956, 9215.62, 9427.818, 9246.498, 9323.684, 9473.802, 9191.422, 9025.894, 9335.742, 9533.694, 8874.252, 8957.688, 9369.188, 9206.454, 9274.884, 9401.696, 9213.622, 9287.832, 9518.376, 9412.372, 9244.48, 9376.602, 9307.596, 9222.244, 9249.636, 9483.316, 9171.602, 8924.196, 9381.012, 9136.214, 9436.196, 9809.078, 9307.368, 8935.586, 9309.336, 9302.63, 9095.896, 9364.438, 8940.572, 9124.364, 9281.934, 9319.986, 9372.668, 9370.638, 9497.276, 9534.62, 9219.026, 9338.202, 9584.632, 8545.454, 9101.456, 9089.688, 9328.136, 8840.008, 9167.508, 9329.618, 9111.016, 9131.188, 9104.918, 9175.432, 9401.582, 9083.378, 9413.07, 9136.22, 9618.19, 9352.5, 9032.496, 9393.308, 9161.686, 9390.304, 9203.86, 9239.848, 9324.674, 9341.222, 9272.184, 8993.824, 9005.224, 9161.824, 9303.38, 9181.702, 9369.144, 9333.884, 9642.99, 9284.91, 9058.402, 9162.262, 9542.164, 9115.18, 9437.292, 9016.828, 9000.808, 9173.014, 9086.756, 9296.886, 9389.716, 9102.772, 9401.788, 8932.972, 9284.508, 9236.704, 9212.086, 9334.868, 9297.138, 8866.884, 9138.128, 8922.872, 9234.676, 9230.576, 9299.126, 9297.908, 9289.952, 9217.286, 9203.758, 9166.078, 9259.248, 9115.304, 9194.964, 9539.924, 9076.844, 9087.18, 9200.234, 9186.522, 9660.672, 9380.902, 9320.432, 8783.174, 9431.706, 9582.974, 9791.236, 9754.866, 9317.39, 9456.132, 9163.566, 9899.734, 9564.992, 9689.496, 9199.228, 9231.192, 9162.478, 9103.096, 9278.186, 9526.19, 9296.126, 9382.086, 9048.368, 9091.496, 9282.676, 9091.152, 8931.702, 9753.906, 9037.434, 9192.168, 9370.412, 9522.284, 9261.686, 9263.9, 8976.39, 9830.522, 9295.258, 9317.522, 9217.864, 9213.258, 9476.928, 8774.156, 9385.47, 9650.62, 9194.354, 9008.634, 9336.94, 9176.414, 9406.658, 9203.806, 9593.152, 8862.486, 9170.462, 9118.058, 9088.722, 8677.526, 9268.126, 9459.234, 9008.76, 9123.346, 9309.906, 9592.52, 9401.644, 9361.038, 9199.082, 9338.76, 9368.482, 9080.4, 9392.372, 9154.038, 9707.59, 9460.918, 9547.63, 9123.74, 9009.804, 9302.508, 9046.992, 9459.992, 9271.158, 9448.436, 9038.818, 9103.204, 9388.634, 8939.118, 9566.746, 9328.226, 8997.736, 9110.106, 9245.758, 9547.842, 9332.688, 9154.35, 9159.86, 9331.898, 9487.594, 9274.396, 9792.78, 9422.576, 9463.992, 9763.768, 9385.252, 8789.58, 9368.952, 9537.094, 9213.006, 9216.362, 9853.87, 8847.294, 9508.438, 9102.594, 8926.87, 9260.384, 9135.198, 9629.452, 9490.484, 9228.34, 8971.902, 9427.954, 9286.63, 9293.302, 9586.332, 9206.488, 9288.46, 8865.846, 9317.816, 8942.812, 9179.304, 8825.0, 9652.174, 9580.318, 9484.698, 9472.482, 9385.17, 9405.892, 9271.646, 9228.274, 9398.282, 8744.71, 9622.282, 9104.024, 8840.58, 9473.164, 9082.978, 9084.458, 9324.914, 9388.776, 9144.462, 9467.554, 9476.008, 9287.036, 9451.754, 9191.216, 9116.604, 9297.104, 9194.68, 9088.298, 9205.232, 9106.51, 8924.834, 9747.51, 9120.104, 9513.126, 9039.36, 9562.246, 9757.476, 9499.562, 9495.176, 9506.424, 9323.49, 9206.686, 9504.44, 9166.894, 9582.774, 9132.564, 9349.626, 9482.654, 8991.896, 9085.692, 9332.41, 9028.914, 8972.764, 9636.382, 9232.254, 9072.528, 9106.65, 9286.894, 9222.65, 9174.414, 9279.582, 9038.13, 9460.5, 9282.376, 9686.408, 9375.676, 9074.81, 8850.894, 9456.538, 8864.618, 9284.13, 9176.262, 9457.59, 9233.524, 9469.146, 9148.964, 9477.868, 9233.694, 9262.402, 9358.67, 8973.396, 9724.584, 9443.348, 9318.366, 9452.348, 9040.028, 9158.522, 9617.468, 8843.616, 9339.634, 9925.846, 9187.51, 9386.574, 9392.3, 9187.126, 9098.032, 8808.76, 9395.89, 9317.898, 9259.64, 9517.934, 9234.854, 9406.888, 8999.456, 9269.492, 9216.25, 9111.172, 8858.234, 9379.786, 9157.854, 8892.364, 8914.87, 9551.77, 9566.064, 9256.952, 9541.532, 9272.688, 9291.09, 9508.252, 9150.87, 9316.336, 9341.984, 9452.758, 9052.272, 9303.836, 9466.218, 8985.48, 9168.556, 9339.72, 9167.256, 8818.596, 8964.964, 9046.086, 9233.49, 9610.446, 9105.666, 9037.262, 8928.482, 9174.006, 9580.236, 9017.452, 8895.334, 9104.016, 8854.516, 9708.016, 8972.07, 9170.28, 9160.346, 9033.92, 9380.96, 9305.554, 9679.126, 9482.976, 8941.18, 9687.61, 9436.03, 9485.036, 8991.416, 9397.06, 9506.652, 9366.488, 9143.956, 9336.672, 9195.978, 9345.368, 9382.432, 9278.778, 9391.936, 9201.952, 9449.87, 9211.7, 9323.69, 9339.866, 9328.376, 9257.572, 9419.268, 9517.546, 9749.946, 9347.694, 9422.19, 9080.856, 8827.17, 9178.634, 9264.808, 9410.608, 9617.244, 8913.858, 9342.77, 9187.152, 9256.55, 9227.238, 9048.4, 9121.146, 9285.026, 9432.136, 9047.986, 9486.29, 9319.666, 9753.13, 9139.37, 9162.166, 8830.666, 9684.382, 9289.384, 9431.716, 9347.512, 9073.674, 9080.172, 9322.946, 8907.054, 9204.654, 9421.706, 9247.21, 9074.748, 9489.656, 9279.376, 9412.086, 8994.134, 9140.35, 9184.548, 9196.066, 9182.646, 9134.812, 9657.23, 9391.492, 9361.928, 9303.72, 9213.566, 9202.314, 9086.928, 9662.374, 9102.392, 9127.878, 9469.152, 9363.226, 8871.724, 8502.644, 9203.058, 9188.416, 9577.59, 9268.832, 9740.648, 9041.924, 9467.902, 9028.644, 9658.288, 9115.568, 9260.196, 9602.564, 8966.546, 9121.642, 9450.794, 9567.016, 8925.42, 9168.076, 9136.402, 9398.666, 9270.174, 9165.728, 9218.408, 9281.67, 9121.27, 9071.282, 9180.852, 9385.094, 9298.098, 9097.366, 9550.832, 9272.94, 9576.658, 9179.092, 9022.34, 9296.818, 9118.396, 9533.486, 9392.044, 9012.806, 8648.534, 9133.54, 9024.74, 9574.486, 9170.586, 9499.734, 9218.936, 9623.058, 9339.744, 9476.852, 9292.424, 9405.21, 9057.744, 9451.262, 9609.578, 9287.488, 9195.458, 9115.996, 9455.226, 9551.532, 9127.412, 9406.494, 9628.456, 8929.08, 9219.324, 9257.8, 8680.008, 9361.772, 9058.682, 9211.91, 9340.868, 8806.524, 9676.014, 8996.302, 9005.394, 9216.858, 9261.99, 9450.196, 9351.194, 9311.316, 9100.926, 9717.716, 9010.59, 9272.302, 9332.718, 9049.13, 9076.992, 9476.686, 9219.092, 9095.168, 9313.606, 9395.538, 9554.358, 9526.948, 9265.016, 9343.092, 9467.09, 9179.72, 9045.902, 8702.496, 9531.306, 9194.422, 9244.272, 9124.106, 9333.042, 9025.224, 9628.696, 9256.924, 9614.558, 9406.388, 9123.404, 9201.042, 9149.446, 9634.31, 9257.468, 9122.99, 9500.798, 9133.612, 9086.9, 9185.306, 9050.428, 9375.224, 8865.234, 9481.66, 9666.84, 9464.91, 9398.78, 9346.716, 9209.43, 8850.296, 9414.548, 9507.462, 9259.596, 9001.068, 9543.178, 9086.416, 9162.372, 9462.194, 9232.716, 8944.828, 8852.172, 9482.496, 9280.26, 9244.06, 9279.89, 9197.618, 9561.028, 9091.926, 9184.304, 9206.712, 9575.862, 9492.316, 9045.168, 9032.892, 9493.508, 9613.948, 9433.046, 9320.18, 9211.622, 9464.266, 9087.048, 9239.412, 9739.302, 8946.596, 9251.684, 9057.424, 9313.828, 9166.402, 9200.698, 9009.002, 9604.4, 8825.076, 9019.586, 9572.892, 8982.946, 8709.722, 9237.28, 9356.168, 9213.306, 9571.226, 9019.846, 9425.442, 9161.112, 9710.104, 9160.224, 9659.984, 9332.062, 9729.854, 9604.298, 9664.198, 9269.59, 8935.436, 9514.18, 8554.396, 9205.47, 9530.758, 9504.714, 9731.53, 9469.548, 9491.552, 9100.478, 9259.326, 8895.072, 9277.572, 9367.824, 9361.546, 9307.89, 9254.528, 9156.158, 9305.996, 9286.99, 8834.434, 9292.404, 9355.626, 8937.634, 9084.222, 9489.062, 9646.556, 9317.946, 8666.186, 9308.454, 9087.466, 9083.17, 9418.962, 9366.436, 9428.408, 9241.252, 9315.868, 9098.558, 9388.71, 9207.452, 9573.258, 9354.946, 9347.94, 9494.88, 8991.382, 9538.592, 9158.018, 9342.44, 9480.93, 9533.926, 9474.01, 9225.318, 9266.01, 9454.714, 8902.008, 9119.268, 9058.91, 8834.82, 9376.536, 9112.25, 9322.734, 9643.914, 9356.966, 9591.3, 9350.526, 8966.008, 9406.488, 9115.28, 9023.854, 8847.12, 9324.508, 9130.412, 9244.516, 9504.212, 9296.09, 9364.414, 8832.436, 9125.96, 9211.21, 8871.636, 9442.442, 9200.062, 9690.202, 9109.172, 8926.05, 8980.622, 9238.146, 9557.966, 9051.954, 9193.136, 9057.864, 9188.816, 9276.104, 9166.002, 9153.724, 9484.962, 9274.566, 8907.614, 9122.7, 9218.92, 9056.572, 9343.22, 9647.288, 9069.67, 9392.534, 9342.48, 9372.316, 9636.974, 8836.542, 9080.158, 9203.418, 9110.158, 9308.048, 9107.05, 9534.238, 8952.574, 9161.224, 9172.88, 9098.044, 9071.986, 9174.37, 9405.176, 9003.724, 9095.902, 8979.706, 9332.452, 9061.03, 8993.616, 9126.856, 9517.898, 9561.452, 8908.076, 9368.708, 9266.89, 9561.502, 9467.428, 9271.372, 9686.7, 9103.52, 9468.002, 9236.44, 9647.83, 9282.936, 9191.25, 9056.004, 9587.764, 8942.83, 9397.042, 9439.896, 9274.736, 9832.344, 9237.716, 9666.274, 9419.456, 9206.492, 9057.67, 8932.35, 9067.444, 9085.176, 9128.396, 9115.044, 9288.772, 8974.826, 8694.33, 9311.116, 9314.91, 9425.44, 9237.362, 9543.542, 9120.034, 8962.926, 9181.852, 9326.222, 9293.314, 9203.874, 9547.966, 9076.338, 9029.644, 8882.94, 9013.45, 9218.446, 9364.55, 9033.078, 9123.182, 9324.62, 9167.324, 9881.068, 9316.476, 9300.904, 9058.266, 9403.804, 8877.48, 9261.44, 9017.104, 9504.476, 9037.834, 9546.444, 9116.438, 8643.42, 9330.73, 9450.138, 9236.706, 9250.656, 9561.416, 9409.752, 9212.14, 9727.734, 9479.306, 9522.554, 9296.718, 9082.6, 9519.83, 9035.114, 9411.764, 9049.688, 9226.228, 8667.508, 9546.022, 9012.188, 9794.432, 8621.862, 8910.408, 9385.728, 9555.18, 9400.334, 9331.44, 9311.766, 9682.742, 9418.246, 9343.518, 9101.384, 9073.506, 9079.008, 9119.26, 9335.31, 9492.236, 9302.224, 9233.732, 9755.55, 9351.664, 9716.322, 9645.044, 9248.232, 8956.336, 9344.526, 9261.256, 9411.098, 9593.63, 9279.876, 9172.268, 9066.548, 8887.582, 9344.418, 9408.104, 8893.846, 9254.792, 9243.068, 9319.918, 9306.54, 9012.03, 9558.51, 9396.712, 9194.352, 9244.676, 9086.498, 9436.67, 9169.488, 9441.362, 9187.362, 9358.44, 9658.342, 9356.578, 9325.614, 9203.184, 9030.788, 9489.45, 8993.17, 9520.562, 9295.278, 9422.774, 8798.258, 9267.49, 9134.278, 9719.63, 9698.356, 9363.474, 9352.53, 9580.112, 9445.308, 9357.178, 9118.884, 9188.516, 9406.544, 9046.554, 8998.094, 9114.656, 9313.854, 9636.206, 9010.13, 8930.472, 9437.018, 9480.034, 9313.436, 9279.974, 9471.842, 9402.934, 9301.99, 9358.874, 9549.366, 9585.082, 9161.334, 9420.182, 9435.484, 8828.344, 9180.132, 9536.146, 9528.296]\n"
          ]
        }
      ]
    },
    {
      "cell_type": "code",
      "source": [
        "np.mean(married_sample_data_1)"
      ],
      "metadata": {
        "colab": {
          "base_uri": "https://localhost:8080/"
        },
        "id": "sj1rBm1RENow",
        "outputId": "a5a2a0fa-5795-4517-f064-cbd607495c05"
      },
      "execution_count": 44,
      "outputs": [
        {
          "output_type": "execute_result",
          "data": {
            "text/plain": [
              "9269.543832000001"
            ]
          },
          "metadata": {},
          "execution_count": 44
        }
      ]
    },
    {
      "cell_type": "code",
      "source": [
        "np.mean(unmarried_sample_data_1)"
      ],
      "metadata": {
        "colab": {
          "base_uri": "https://localhost:8080/"
        },
        "id": "tligHWa7ERe6",
        "outputId": "136428aa-0586-4c29-fe16-0ac994e7254d"
      },
      "execution_count": 45,
      "outputs": [
        {
          "output_type": "execute_result",
          "data": {
            "text/plain": [
              "9268.236752"
            ]
          },
          "metadata": {},
          "execution_count": 45
        }
      ]
    },
    {
      "cell_type": "code",
      "source": [
        "sns.histplot(married_sample_data_1)"
      ],
      "metadata": {
        "colab": {
          "base_uri": "https://localhost:8080/",
          "height": 447
        },
        "id": "EifUVPJ5E7HM",
        "outputId": "ed35ba0a-a929-4ecb-a66d-fb494144fa79"
      },
      "execution_count": 46,
      "outputs": [
        {
          "output_type": "execute_result",
          "data": {
            "text/plain": [
              "<Axes: ylabel='Count'>"
            ]
          },
          "metadata": {},
          "execution_count": 46
        },
        {
          "output_type": "display_data",
          "data": {
            "text/plain": [
              "<Figure size 640x480 with 1 Axes>"
            ],
            "image/png": "[encoded data removed]"
          },
          "metadata": {}
        }
      ]
    },
    {
      "cell_type": "code",
      "source": [
        "sns.histplot(unmarried_sample_data_1)"
      ],
      "metadata": {
        "colab": {
          "base_uri": "https://localhost:8080/",
          "height": 447
        },
        "id": "W8mZWxuUE_gc",
        "outputId": "8ccd5316-9f7c-42ca-fc30-e282d9a38b67"
      },
      "execution_count": 47,
      "outputs": [
        {
          "output_type": "execute_result",
          "data": {
            "text/plain": [
              "<Axes: ylabel='Count'>"
            ]
          },
          "metadata": {},
          "execution_count": 47
        },
        {
          "output_type": "display_data",
          "data": {
            "text/plain": [
              "<Figure size 640x480 with 1 Axes>"
            ],
            "image/png": "[encoded data removed]"
          },
          "metadata": {}
        }
      ]
    },
    {
      "cell_type": "markdown",
      "source": [
        "95% confidence interval"
      ],
      "metadata": {
        "id": "KmDZhWSTFKFu"
      }
    },
    {
      "cell_type": "code",
      "source": [
        "married_confidence_interval_195=np.percentile(married_sample_data_1,[2.5,97.5])\n",
        "unmarried_confidence_interval_195=np.percentile(unmarried_sample_data_1,[2.5,97.5])"
      ],
      "metadata": {
        "id": "-pYVnCOxFIVK"
      },
      "execution_count": 48,
      "outputs": []
    },
    {
      "cell_type": "code",
      "source": [
        "print(married_confidence_interval_195)\n",
        "print(unmarried_confidence_interval_195)"
      ],
      "metadata": {
        "colab": {
          "base_uri": "https://localhost:8080/"
        },
        "id": "28mc_Vk1FT8q",
        "outputId": "5b72f73b-7678-40f0-fa24-032e6f2470c6"
      },
      "execution_count": 49,
      "outputs": [
        {
          "output_type": "stream",
          "name": "stdout",
          "text": [
            "[8830.54295 9714.31085]\n",
            "[8830.60795 9717.76385]\n"
          ]
        }
      ]
    },
    {
      "cell_type": "markdown",
      "source": [
        "Age"
      ],
      "metadata": {
        "id": "HWDZYMLOFyZg"
      }
    },
    {
      "cell_type": "code",
      "source": [
        "sample_size=300\n",
        "age_labels=['0-17', '18-25', '26-35', '36-50', '51+']\n",
        "df['AgeGroup'] = pd.cut(df['Age'],labels=age_labels, right=False)\n"
      ],
      "metadata": {
        "colab": {
          "base_uri": "https://localhost:8080/",
          "height": 210
        },
        "id": "MnDCufmSG9o7",
        "outputId": "de2cf637-5b10-4dad-c1d7-076d0bcefa70"
      },
      "execution_count": 55,
      "outputs": [
        {
          "output_type": "error",
          "ename": "TypeError",
          "evalue": "ignored",
          "traceback": [
            "\u001b[0;31m---------------------------------------------------------------------------\u001b[0m",
            "\u001b[0;31mTypeError\u001b[0m                                 Traceback (most recent call last)",
            "\u001b[0;32m<ipython-input-55-f3b5e34e9444>\u001b[0m in \u001b[0;36m<cell line: 3>\u001b[0;34m()\u001b[0m\n\u001b[1;32m      1\u001b[0m \u001b[0msample_size\u001b[0m\u001b[0;34m=\u001b[0m\u001b[0;36m300\u001b[0m\u001b[0;34m\u001b[0m\u001b[0;34m\u001b[0m\u001b[0m\n\u001b[1;32m      2\u001b[0m \u001b[0mage_labels\u001b[0m\u001b[0;34m=\u001b[0m\u001b[0;34m[\u001b[0m\u001b[0;34m'0-17'\u001b[0m\u001b[0;34m,\u001b[0m \u001b[0;34m'18-25'\u001b[0m\u001b[0;34m,\u001b[0m \u001b[0;34m'26-35'\u001b[0m\u001b[0;34m,\u001b[0m \u001b[0;34m'36-50'\u001b[0m\u001b[0;34m,\u001b[0m \u001b[0;34m'51+'\u001b[0m\u001b[0;34m]\u001b[0m\u001b[0;34m\u001b[0m\u001b[0;34m\u001b[0m\u001b[0m\n\u001b[0;32m----> 3\u001b[0;31m \u001b[0mdf\u001b[0m\u001b[0;34m[\u001b[0m\u001b[0;34m'AgeGroup'\u001b[0m\u001b[0;34m]\u001b[0m \u001b[0;34m=\u001b[0m \u001b[0mpd\u001b[0m\u001b[0;34m.\u001b[0m\u001b[0mcut\u001b[0m\u001b[0;34m(\u001b[0m\u001b[0mdf\u001b[0m\u001b[0;34m[\u001b[0m\u001b[0;34m'Age'\u001b[0m\u001b[0;34m]\u001b[0m\u001b[0;34m,\u001b[0m\u001b[0mlabels\u001b[0m\u001b[0;34m=\u001b[0m\u001b[0mage_labels\u001b[0m\u001b[0;34m,\u001b[0m \u001b[0mright\u001b[0m\u001b[0;34m=\u001b[0m\u001b[0;32mFalse\u001b[0m\u001b[0;34m)\u001b[0m\u001b[0;34m\u001b[0m\u001b[0;34m\u001b[0m\u001b[0m\n\u001b[0m",
            "\u001b[0;31mTypeError\u001b[0m: cut() missing 1 required positional argument: 'bins'"
          ]
        }
      ]
    }
  ]
}